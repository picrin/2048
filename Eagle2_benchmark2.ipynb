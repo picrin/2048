{
  "nbformat": 4,
  "nbformat_minor": 0,
  "metadata": {
    "colab": {
      "name": "Eagle2_benchmark2.ipynb",
      "version": "0.3.2",
      "provenance": [],
      "collapsed_sections": [],
      "toc_visible": true,
      "include_colab_link": true
    },
    "kernelspec": {
      "name": "python3",
      "display_name": "Python 3"
    },
    "accelerator": "GPU"
  },
  "cells": [
    {
      "cell_type": "markdown",
      "metadata": {
        "id": "view-in-github",
        "colab_type": "text"
      },
      "source": [
        "<a href=\"https://colab.research.google.com/github/picrin/2048/blob/master/Eagle2_benchmark2.ipynb\" target=\"_parent\"><img src=\"https://colab.research.google.com/assets/colab-badge.svg\" alt=\"Open In Colab\"/></a>"
      ]
    },
    {
      "cell_type": "code",
      "metadata": {
        "id": "QnPy_qBmG-ci",
        "colab_type": "code",
        "colab": {}
      },
      "source": [
        "import random\n",
        "import vcf\n",
        "import collections\n",
        "import subprocess\n",
        "import matplotlib.pyplot as plt"
      ],
      "execution_count": 0,
      "outputs": []
    },
    {
      "cell_type": "markdown",
      "metadata": {
        "id": "RDUMKZqK235S",
        "colab_type": "text"
      },
      "source": [
        "# Benchmark of Eagle2\n",
        "\n",
        "SNPs occur throughout human genome, including coding and non-coding regions. In this study we attempt to answer the following question:\n",
        "\n",
        "Can modern phasing tools, supported with modern, large haplotype/genotype datasets (e.g. 1000 Genome project or the Haplotype Reference Consortium), assign a correct haplotype to SNPs situated in neighbouring genes?\n",
        "\n",
        "We answer this question by studying two high-quality benchmark genomes, obtained as part of the Genome In A Bottle (GIAB) consortium. These datasets are:\n",
        "\n",
        "1. the Ashkenazim Jewish trio (done)\n",
        "2. the Asian trio (TODO).\n",
        "\n",
        "A probabilistic answer to the question, i.e. \"yes they can with probability 85%\" would be satisfactory."
      ]
    },
    {
      "cell_type": "markdown",
      "metadata": {
        "id": "LdVRpo5E8GrC",
        "colab_type": "text"
      },
      "source": [
        "# Check the amount of space on the machine. At least 50 GB of space required\n",
        "\n"
      ]
    },
    {
      "cell_type": "code",
      "metadata": {
        "id": "NEs--Sfe2Hm_",
        "colab_type": "code",
        "outputId": "d45c7443-ddb6-422f-8d9e-e908e7fb6eed",
        "colab": {
          "base_uri": "https://localhost:8080/",
          "height": 161
        }
      },
      "source": [
        "!df -h"
      ],
      "execution_count": 0,
      "outputs": [
        {
          "output_type": "stream",
          "text": [
            "Filesystem      Size  Used Avail Use% Mounted on\n",
            "overlay         359G   39G  302G  12% /\n",
            "tmpfs           6.4G     0  6.4G   0% /dev\n",
            "tmpfs           6.4G     0  6.4G   0% /sys/fs/cgroup\n",
            "tmpfs           6.4G   12K  6.4G   1% /var/colab\n",
            "/dev/sda1       365G   44G  322G  12% /opt/bin\n",
            "shm             6.0G   12K  6.0G   1% /dev/shm\n",
            "tmpfs           6.4G     0  6.4G   0% /sys/firmware\n"
          ],
          "name": "stdout"
        }
      ]
    },
    {
      "cell_type": "markdown",
      "metadata": {
        "id": "BxWd8LiE8bgB",
        "colab_type": "text"
      },
      "source": [
        "## Download Eagle"
      ]
    },
    {
      "cell_type": "code",
      "metadata": {
        "id": "vdHBVoQQ2KAg",
        "colab_type": "code",
        "outputId": "c23ca0e1-833a-4cfb-8b99-d47ceb6c5d5e",
        "colab": {
          "base_uri": "https://localhost:8080/",
          "height": 215
        }
      },
      "source": [
        "!wget https://data.broadinstitute.org/alkesgroup/Eagle/downloads/Eagle_v2.4.1.tar.gz"
      ],
      "execution_count": 0,
      "outputs": [
        {
          "output_type": "stream",
          "text": [
            "--2019-07-14 19:20:28--  https://data.broadinstitute.org/alkesgroup/Eagle/downloads/Eagle_v2.4.1.tar.gz\n",
            "Resolving data.broadinstitute.org (data.broadinstitute.org)... 69.173.92.29\n",
            "Connecting to data.broadinstitute.org (data.broadinstitute.org)|69.173.92.29|:443... connected.\n",
            "HTTP request sent, awaiting response... 200 OK\n",
            "Length: 225286865 (215M) [application/x-gzip]\n",
            "Saving to: ‘Eagle_v2.4.1.tar.gz’\n",
            "\n",
            "Eagle_v2.4.1.tar.gz 100%[===================>] 214.85M  3.02MB/s    in 71s     \n",
            "\n",
            "2019-07-14 19:21:40 (3.01 MB/s) - ‘Eagle_v2.4.1.tar.gz’ saved [225286865/225286865]\n",
            "\n"
          ],
          "name": "stdout"
        }
      ]
    },
    {
      "cell_type": "code",
      "metadata": {
        "id": "DeGgIFyY2RNo",
        "colab_type": "code",
        "outputId": "cfe1e7fb-b2c6-48af-deff-50ba826e8c7b",
        "colab": {
          "base_uri": "https://localhost:8080/",
          "height": 1000
        }
      },
      "source": [
        "!tar -xvf Eagle_v2.4.1.tar.gz"
      ],
      "execution_count": 0,
      "outputs": [
        {
          "output_type": "stream",
          "text": [
            "Eagle_v2.4.1/\n",
            "Eagle_v2.4.1/eagle\n",
            "Eagle_v2.4.1/example/\n",
            "Eagle_v2.4.1/example/target.vcf.gz\n",
            "Eagle_v2.4.1/example/ref.bcf.csi\n",
            "Eagle_v2.4.1/example/run_example.sh\n",
            "Eagle_v2.4.1/example/example_ref.log\n",
            "Eagle_v2.4.1/example/EUR_test.vcf.gz\n",
            "Eagle_v2.4.1/example/example.log\n",
            "Eagle_v2.4.1/example/target.vcf.gz.tbi\n",
            "Eagle_v2.4.1/example/run_example_ref.sh\n",
            "Eagle_v2.4.1/example/EUR_test.fam\n",
            "Eagle_v2.4.1/example/phased.vcf.gz\n",
            "Eagle_v2.4.1/example/target.phased.vcf.gz\n",
            "Eagle_v2.4.1/example/run_example_vcf.sh\n",
            "Eagle_v2.4.1/example/example_vcf.log\n",
            "Eagle_v2.4.1/example/EUR_test.bim\n",
            "Eagle_v2.4.1/example/phased.haps.gz\n",
            "Eagle_v2.4.1/example/ref.bcf\n",
            "Eagle_v2.4.1/example/phased.sample\n",
            "Eagle_v2.4.1/example/EUR_test.bed\n",
            "Eagle_v2.4.1/tables/\n",
            "Eagle_v2.4.1/tables/genetic_map_hg18_withX.txt.gz\n",
            "Eagle_v2.4.1/tables/genetic_map_hg38_withX.txt.gz\n",
            "Eagle_v2.4.1/tables/genetic_map_hg19_withX.txt.gz\n",
            "Eagle_v2.4.1/tables/genetic_map_1cMperMb.txt\n",
            "Eagle_v2.4.1/tables/genetic_map_hg17_withX.txt.gz\n",
            "Eagle_v2.4.1/src/\n",
            "Eagle_v2.4.1/src/EagleParams.hpp\n",
            "Eagle_v2.4.1/src/HapHedge.cpp\n",
            "Eagle_v2.4.1/src/MapInterpolater.hpp\n",
            "Eagle_v2.4.1/src/EagleImpMiss.cpp\n",
            "Eagle_v2.4.1/src/HapHedge.hpp\n",
            "Eagle_v2.4.1/src/EagleMain.cpp\n",
            "Eagle_v2.4.1/src/MemoryUtils.cpp\n",
            "Eagle_v2.4.1/src/Timer.cpp\n",
            "Eagle_v2.4.1/src/memcpy.cpp\n",
            "Eagle_v2.4.1/src/EaglePBWT.cpp\n",
            "Eagle_v2.4.1/src/FileUtils.hpp\n",
            "Eagle_v2.4.1/src/MemoryUtils.hpp\n",
            "Eagle_v2.4.1/src/GenoData.hpp\n",
            "Eagle_v2.4.1/src/NumericUtils.hpp\n",
            "Eagle_v2.4.1/src/Makefile\n",
            "Eagle_v2.4.1/src/Eagle.cpp\n",
            "Eagle_v2.4.1/src/COPYING\n",
            "Eagle_v2.4.1/src/FileUtils.cpp\n",
            "Eagle_v2.4.1/src/MapInterpolater.cpp\n",
            "Eagle_v2.4.1/src/LapackConst.hpp\n",
            "Eagle_v2.4.1/src/Types.hpp\n",
            "Eagle_v2.4.1/src/StringUtils.cpp\n",
            "Eagle_v2.4.1/src/DipTreePBWT.cpp\n",
            "Eagle_v2.4.1/src/GenoData.cpp\n",
            "Eagle_v2.4.1/src/SyncedVcfData.hpp\n",
            "Eagle_v2.4.1/src/DipTreePBWT.hpp\n",
            "Eagle_v2.4.1/src/Eagle.hpp\n",
            "Eagle_v2.4.1/src/Timer.hpp\n",
            "Eagle_v2.4.1/src/NumericUtils.cpp\n",
            "Eagle_v2.4.1/src/EagleParams.cpp\n",
            "Eagle_v2.4.1/src/Version.hpp\n",
            "Eagle_v2.4.1/src/StaticMultimap.hpp\n",
            "Eagle_v2.4.1/src/SyncedVcfData.cpp\n",
            "Eagle_v2.4.1/src/StringUtils.hpp\n",
            "Eagle_v2.4.1/src/StaticMultimap.cpp\n"
          ],
          "name": "stdout"
        }
      ]
    },
    {
      "cell_type": "code",
      "metadata": {
        "id": "0oN0NSR12SgA",
        "colab_type": "code",
        "outputId": "e47408fd-f98f-4dea-fce8-090b6990b07e",
        "colab": {
          "base_uri": "https://localhost:8080/",
          "height": 1000
        }
      },
      "source": [
        "!Eagle_v2.4.1/eagle --help"
      ],
      "execution_count": 0,
      "outputs": [
        {
          "output_type": "stream",
          "text": [
            "                      +-----------------------------+\n",
            "                      |                             |\n",
            "                      |   Eagle v2.4.1              |\n",
            "                      |   November 18, 2018         |\n",
            "                      |   Po-Ru Loh                 |\n",
            "                      |                             |\n",
            "                      +-----------------------------+\n",
            "\n",
            "Copyright (C) 2015-2018 Harvard University.\n",
            "Distributed under the GNU GPLv3+ open source license.\n",
            "\n",
            "Command line options:\n",
            "\n",
            "Eagle_v2.4.1/eagle \\\n",
            "    --help \n",
            "\n",
            "\n",
            "Options:\n",
            "\n",
            "  --geneticMapFile arg             HapMap genetic map provided with download: \n",
            "                                   tables/genetic_map_hg##.txt.gz\n",
            "  --outPrefix arg                  prefix for output files\n",
            "  --numThreads arg (=1)            number of computational threads\n",
            "\n",
            "Input options for phasing without a reference:\n",
            "  --bfile arg                      prefix of PLINK .fam, .bim, .bed files\n",
            "  --bfilegz arg                    prefix of PLINK .fam.gz, .bim.gz, .bed.gz \n",
            "                                   files\n",
            "  --fam arg                        PLINK .fam file (note: file names ending in \n",
            "                                   .gz are auto-decompressed)\n",
            "  --bim arg                        PLINK .bim file\n",
            "  --bed arg                        PLINK .bed file\n",
            "  --vcf arg                        [compressed] VCF/BCF file containing input \n",
            "                                   genotypes\n",
            "  --remove arg                     file(s) listing individuals to ignore (no \n",
            "                                   header; FID IID must be first two columns)\n",
            "  --exclude arg                    file(s) listing SNPs to ignore (no header; \n",
            "                                   SNP ID must be first column)\n",
            "  --maxMissingPerSnp arg (=0.1)    QC filter: max missing rate per SNP\n",
            "  --maxMissingPerIndiv arg (=0.1)  QC filter: max missing rate per person\n",
            "\n",
            "Input/output options for phasing using a reference panel:\n",
            "  --vcfRef arg                     tabix-indexed [compressed] VCF/BCF file for \n",
            "                                   reference haplotypes\n",
            "  --vcfTarget arg                  tabix-indexed [compressed] VCF/BCF file for \n",
            "                                   target genotypes\n",
            "  --vcfOutFormat arg (=.)          b|u|z|v: compressed BCF (b), uncomp BCF (u),\n",
            "                                   compressed VCF (z), uncomp VCF (v)\n",
            "  --noImpMissing                   disable imputation of missing target \n",
            "                                   genotypes (. or ./.)\n",
            "  --allowRefAltSwap                allow swapping of REF/ALT in target vs. ref \n",
            "                                   VCF\n",
            "  --outputUnphased                 output unphased sites (target-only, \n",
            "                                   multi-allelic, etc.)\n",
            "  --keepMissingPloidyX             assume missing genotypes have correct ploidy\n",
            "                                   (.=haploid, ./.=diploid)\n",
            "  --vcfExclude arg                 tabix-indexed [compressed] VCF/BCF file \n",
            "                                   containing variants to exclude from phasing\n",
            "\n",
            "Region selection options:\n",
            "  --chrom arg (=0)                 chromosome to analyze (if input has many)\n",
            "  --bpStart arg (=0)               minimum base pair position to analyze\n",
            "  --bpEnd arg (=1e9)               maximum base pair position to analyze\n",
            "  --bpFlanking arg (=0)            (ref-mode only) flanking region to use \n",
            "                                   during phasing but discard in output\n",
            "\n",
            "Algorithm options:\n",
            "  --Kpbwt arg (=10000)             number of conditioning haplotypes\n",
            "  --pbwtIters arg (=0)             number of PBWT phasing iterations (0=auto)\n",
            "  --expectIBDcM arg (=2.0)         expected length of haplotype copying (cM)\n",
            "  --histFactor arg (=0)            history length multiplier (0=auto)\n",
            "  --genoErrProb arg (=0.003)       estimated genotype error probability\n",
            "  --pbwtOnly                       in non-ref mode, use only PBWT iters \n",
            "                                   (automatic for sequence data)\n",
            "  --v1                             use Eagle1 phasing algorithm (instead of \n",
            "                                   default Eagle2 algorithm)\n",
            "\n"
          ],
          "name": "stdout"
        }
      ]
    },
    {
      "cell_type": "markdown",
      "metadata": {
        "id": "NQblnPt2727H",
        "colab_type": "text"
      },
      "source": [
        "# Download the GIAB datasets"
      ]
    },
    {
      "cell_type": "code",
      "metadata": {
        "id": "6-RUj8i-8E2R",
        "colab_type": "code",
        "outputId": "0c6d275e-1d0f-4f5b-c1e9-bbdf6e16cd9a",
        "colab": {
          "base_uri": "https://localhost:8080/",
          "height": 307
        }
      },
      "source": [
        "!wget ftp://ftp-trace.ncbi.nlm.nih.gov/giab/ftp/release/AshkenazimTrio/HG002_NA24385_son/latest/GRCh38/HG002_GRCh38_GIAB_highconf_CG-Illfb-IllsentieonHC-Ion-10XsentieonHC-SOLIDgatkHC_CHROM1-22_v.3.3.2_highconf_triophased.vcf.gz"
      ],
      "execution_count": 0,
      "outputs": [
        {
          "output_type": "stream",
          "text": [
            "--2019-07-14 19:31:28--  ftp://ftp-trace.ncbi.nlm.nih.gov/giab/ftp/release/AshkenazimTrio/HG002_NA24385_son/latest/GRCh38/HG002_GRCh38_GIAB_highconf_CG-Illfb-IllsentieonHC-Ion-10XsentieonHC-SOLIDgatkHC_CHROM1-22_v.3.3.2_highconf_triophased.vcf.gz\n",
            "           => ‘HG002_GRCh38_GIAB_highconf_CG-Illfb-IllsentieonHC-Ion-10XsentieonHC-SOLIDgatkHC_CHROM1-22_v.3.3.2_highconf_triophased.vcf.gz’\n",
            "Resolving ftp-trace.ncbi.nlm.nih.gov (ftp-trace.ncbi.nlm.nih.gov)... 130.14.250.13\n",
            "Connecting to ftp-trace.ncbi.nlm.nih.gov (ftp-trace.ncbi.nlm.nih.gov)|130.14.250.13|:21... connected.\n",
            "Logging in as anonymous ... Logged in!\n",
            "==> SYST ... done.    ==> PWD ... done.\n",
            "==> TYPE I ... done.  ==> CWD (1) /giab/ftp/release/AshkenazimTrio/HG002_NA24385_son/latest/GRCh38 ... done.\n",
            "==> SIZE HG002_GRCh38_GIAB_highconf_CG-Illfb-IllsentieonHC-Ion-10XsentieonHC-SOLIDgatkHC_CHROM1-22_v.3.3.2_highconf_triophased.vcf.gz ... 129195923\n",
            "==> PASV ... done.    ==> RETR HG002_GRCh38_GIAB_highconf_CG-Illfb-IllsentieonHC-Ion-10XsentieonHC-SOLIDgatkHC_CHROM1-22_v.3.3.2_highconf_triophased.vcf.gz ... done.\n",
            "Length: 129195923 (123M) (unauthoritative)\n",
            "\n",
            "HG002_GRCh38_GIAB_h 100%[===================>] 123.21M  33.6MB/s    in 4.4s    \n",
            "\n",
            "2019-07-14 19:31:37 (28.3 MB/s) - ‘HG002_GRCh38_GIAB_highconf_CG-Illfb-IllsentieonHC-Ion-10XsentieonHC-SOLIDgatkHC_CHROM1-22_v.3.3.2_highconf_triophased.vcf.gz’ saved [129195923]\n",
            "\n"
          ],
          "name": "stdout"
        }
      ]
    },
    {
      "cell_type": "code",
      "metadata": {
        "id": "y9yBQTg99_TB",
        "colab_type": "code",
        "colab": {}
      },
      "source": [
        "!mv HG002_GRCh38_GIAB_highconf_CG-Illfb-IllsentieonHC-Ion-10XsentieonHC-SOLIDgatkHC_CHROM1-22_v.3.3.2_highconf_triophased.vcf.gz jewish_son.vcf.gz"
      ],
      "execution_count": 0,
      "outputs": []
    },
    {
      "cell_type": "code",
      "metadata": {
        "id": "iuopAbrp-RVP",
        "colab_type": "code",
        "outputId": "00a02720-6439-4f90-faee-8c28c2604b77",
        "colab": {
          "base_uri": "https://localhost:8080/",
          "height": 307
        }
      },
      "source": [
        "!wget ftp://ftp-trace.ncbi.nlm.nih.gov/giab/ftp/release/AshkenazimTrio/HG003_NA24149_father/latest/GRCh38/HG003_GRCh38_GIAB_highconf_CG-Illfb-IllsentieonHC-Ion-10XsentieonHC_CHROM1-22_v.3.3.2_highconf.vcf.gz"
      ],
      "execution_count": 0,
      "outputs": [
        {
          "output_type": "stream",
          "text": [
            "--2019-07-14 19:56:52--  ftp://ftp-trace.ncbi.nlm.nih.gov/giab/ftp/release/AshkenazimTrio/HG003_NA24149_father/latest/GRCh38/HG003_GRCh38_GIAB_highconf_CG-Illfb-IllsentieonHC-Ion-10XsentieonHC_CHROM1-22_v.3.3.2_highconf.vcf.gz\n",
            "           => ‘HG003_GRCh38_GIAB_highconf_CG-Illfb-IllsentieonHC-Ion-10XsentieonHC_CHROM1-22_v.3.3.2_highconf.vcf.gz’\n",
            "Resolving ftp-trace.ncbi.nlm.nih.gov (ftp-trace.ncbi.nlm.nih.gov)... 130.14.250.11, 2607:f220:41e:250::12\n",
            "Connecting to ftp-trace.ncbi.nlm.nih.gov (ftp-trace.ncbi.nlm.nih.gov)|130.14.250.11|:21... connected.\n",
            "Logging in as anonymous ... Logged in!\n",
            "==> SYST ... done.    ==> PWD ... done.\n",
            "==> TYPE I ... done.  ==> CWD (1) /giab/ftp/release/AshkenazimTrio/HG003_NA24149_father/latest/GRCh38 ... done.\n",
            "==> SIZE HG003_GRCh38_GIAB_highconf_CG-Illfb-IllsentieonHC-Ion-10XsentieonHC_CHROM1-22_v.3.3.2_highconf.vcf.gz ... 110124812\n",
            "==> PASV ... done.    ==> RETR HG003_GRCh38_GIAB_highconf_CG-Illfb-IllsentieonHC-Ion-10XsentieonHC_CHROM1-22_v.3.3.2_highconf.vcf.gz ... done.\n",
            "Length: 110124812 (105M) (unauthoritative)\n",
            "\n",
            "HG003_GRCh38_GIAB_h 100%[===================>] 105.02M  30.7MB/s    in 3.7s    \n",
            "\n",
            "2019-07-14 19:56:57 (28.1 MB/s) - ‘HG003_GRCh38_GIAB_highconf_CG-Illfb-IllsentieonHC-Ion-10XsentieonHC_CHROM1-22_v.3.3.2_highconf.vcf.gz’ saved [110124812]\n",
            "\n"
          ],
          "name": "stdout"
        }
      ]
    },
    {
      "cell_type": "code",
      "metadata": {
        "id": "0d4wrrEODpvN",
        "colab_type": "code",
        "colab": {}
      },
      "source": [
        "!mv HG003_GRCh38_GIAB_highconf_CG-Illfb-IllsentieonHC-Ion-10XsentieonHC_CHROM1-22_v.3.3.2_highconf.vcf.gz jewish_father.vcf.gz"
      ],
      "execution_count": 0,
      "outputs": []
    },
    {
      "cell_type": "code",
      "metadata": {
        "id": "BhZb6vu4D4bc",
        "colab_type": "code",
        "outputId": "bb0221cf-1758-4bbb-fc22-a8612430f11c",
        "colab": {
          "base_uri": "https://localhost:8080/",
          "height": 307
        }
      },
      "source": [
        "!wget ftp://ftp-trace.ncbi.nlm.nih.gov/giab/ftp/release/AshkenazimTrio/HG004_NA24143_mother/latest/GRCh38/HG004_GRCh38_GIAB_highconf_CG-Illfb-IllsentieonHC-Ion-10XsentieonHC_CHROM1-22_v.3.3.2_highconf.vcf.gz"
      ],
      "execution_count": 0,
      "outputs": [
        {
          "output_type": "stream",
          "text": [
            "--2019-07-14 19:58:28--  ftp://ftp-trace.ncbi.nlm.nih.gov/giab/ftp/release/AshkenazimTrio/HG004_NA24143_mother/latest/GRCh38/HG004_GRCh38_GIAB_highconf_CG-Illfb-IllsentieonHC-Ion-10XsentieonHC_CHROM1-22_v.3.3.2_highconf.vcf.gz\n",
            "           => ‘HG004_GRCh38_GIAB_highconf_CG-Illfb-IllsentieonHC-Ion-10XsentieonHC_CHROM1-22_v.3.3.2_highconf.vcf.gz’\n",
            "Resolving ftp-trace.ncbi.nlm.nih.gov (ftp-trace.ncbi.nlm.nih.gov)... 130.14.250.13, 2607:f220:41e:250::11\n",
            "Connecting to ftp-trace.ncbi.nlm.nih.gov (ftp-trace.ncbi.nlm.nih.gov)|130.14.250.13|:21... connected.\n",
            "Logging in as anonymous ... Logged in!\n",
            "==> SYST ... done.    ==> PWD ... done.\n",
            "==> TYPE I ... done.  ==> CWD (1) /giab/ftp/release/AshkenazimTrio/HG004_NA24143_mother/latest/GRCh38 ... done.\n",
            "==> SIZE HG004_GRCh38_GIAB_highconf_CG-Illfb-IllsentieonHC-Ion-10XsentieonHC_CHROM1-22_v.3.3.2_highconf.vcf.gz ... 112000213\n",
            "==> PASV ... done.    ==> RETR HG004_GRCh38_GIAB_highconf_CG-Illfb-IllsentieonHC-Ion-10XsentieonHC_CHROM1-22_v.3.3.2_highconf.vcf.gz ... done.\n",
            "Length: 112000213 (107M) (unauthoritative)\n",
            "\n",
            "HG004_GRCh38_GIAB_h 100%[===================>] 106.81M  30.7MB/s    in 3.8s    \n",
            "\n",
            "2019-07-14 19:58:33 (28.0 MB/s) - ‘HG004_GRCh38_GIAB_highconf_CG-Illfb-IllsentieonHC-Ion-10XsentieonHC_CHROM1-22_v.3.3.2_highconf.vcf.gz’ saved [112000213]\n",
            "\n"
          ],
          "name": "stdout"
        }
      ]
    },
    {
      "cell_type": "code",
      "metadata": {
        "id": "sI8ELHDAEIW5",
        "colab_type": "code",
        "colab": {}
      },
      "source": [
        "!mv HG004_GRCh38_GIAB_highconf_CG-Illfb-IllsentieonHC-Ion-10XsentieonHC_CHROM1-22_v.3.3.2_highconf.vcf.gz jewish_mother.vcf.gz"
      ],
      "execution_count": 0,
      "outputs": []
    },
    {
      "cell_type": "code",
      "metadata": {
        "id": "HzU4SYO7ESZe",
        "colab_type": "code",
        "colab": {}
      },
      "source": [
        "cp jewish_son.vcf.gz jewish_son_copy.vcf.gz"
      ],
      "execution_count": 0,
      "outputs": []
    },
    {
      "cell_type": "code",
      "metadata": {
        "id": "8KIj8fmqET5K",
        "colab_type": "code",
        "colab": {}
      },
      "source": [
        "cp jewish_father.vcf.gz jewish_father_copy.vcf.gz"
      ],
      "execution_count": 0,
      "outputs": []
    },
    {
      "cell_type": "code",
      "metadata": {
        "id": "TUJnp0EJErI_",
        "colab_type": "code",
        "colab": {}
      },
      "source": [
        "cp jewish_mother.vcf.gz jewish_mother_copy.vcf.gz"
      ],
      "execution_count": 0,
      "outputs": []
    },
    {
      "cell_type": "code",
      "metadata": {
        "id": "omz-FH1BEvQf",
        "colab_type": "code",
        "colab": {}
      },
      "source": [
        "!gunzip jewish_mother_copy.vcf.gz"
      ],
      "execution_count": 0,
      "outputs": []
    },
    {
      "cell_type": "code",
      "metadata": {
        "id": "UJaqC3cQExcZ",
        "colab_type": "code",
        "colab": {}
      },
      "source": [
        "!gunzip jewish_father_copy.vcf.gz"
      ],
      "execution_count": 0,
      "outputs": []
    },
    {
      "cell_type": "code",
      "metadata": {
        "id": "ykxq09S1FFmV",
        "colab_type": "code",
        "colab": {}
      },
      "source": [
        "!gunzip jewish_son_copy.vcf.gz"
      ],
      "execution_count": 0,
      "outputs": []
    },
    {
      "cell_type": "code",
      "metadata": {
        "id": "9Ogi7KckGdLD",
        "colab_type": "code",
        "outputId": "b0ce7dee-9041-44ac-d7c8-42aaf6543246",
        "colab": {
          "base_uri": "https://localhost:8080/",
          "height": 71
        }
      },
      "source": [
        "!ls"
      ],
      "execution_count": 0,
      "outputs": [
        {
          "output_type": "stream",
          "text": [
            "Eagle_v2.4.1\t\tjewish_father.vcf.gz\tjewish_son_copy.vcf\n",
            "Eagle_v2.4.1.tar.gz\tjewish_mother_copy.vcf\tjewish_son.vcf.gz\n",
            "jewish_father_copy.vcf\tjewish_mother.vcf.gz\tsample_data\n"
          ],
          "name": "stdout"
        }
      ]
    },
    {
      "cell_type": "markdown",
      "metadata": {
        "id": "4qNvaRbUGkWN",
        "colab_type": "text"
      },
      "source": [
        "# Let's verify if the trio data was used correctly to phase the son genotype"
      ]
    },
    {
      "cell_type": "code",
      "metadata": {
        "id": "UebleYZwJJez",
        "colab_type": "code",
        "outputId": "35de27b5-6f63-4525-c893-acfe604a2a44",
        "colab": {
          "base_uri": "https://localhost:8080/",
          "height": 179
        }
      },
      "source": [
        "!pip install pyvcf"
      ],
      "execution_count": 0,
      "outputs": [
        {
          "output_type": "stream",
          "text": [
            "Collecting pyvcf\n",
            "  Downloading https://files.pythonhosted.org/packages/20/b6/36bfb1760f6983788d916096193fc14c83cce512c7787c93380e09458c09/PyVCF-0.6.8.tar.gz\n",
            "Requirement already satisfied: setuptools in /usr/local/lib/python3.6/dist-packages (from pyvcf) (41.0.1)\n",
            "Building wheels for collected packages: pyvcf\n",
            "  Building wheel for pyvcf (setup.py) ... \u001b[?25l\u001b[?25hdone\n",
            "  Stored in directory: /root/.cache/pip/wheels/81/91/41/3272543c0b9c61da9c525f24ee35bae6fe8f60d4858c66805d\n",
            "Successfully built pyvcf\n",
            "Installing collected packages: pyvcf\n",
            "Successfully installed pyvcf-0.6.8\n"
          ],
          "name": "stdout"
        }
      ]
    },
    {
      "cell_type": "code",
      "metadata": {
        "id": "yp7TImqSJH1W",
        "colab_type": "code",
        "colab": {}
      },
      "source": [
        "def output_SNP():\n",
        "    alphabet = [\"A\", \"T\", \"G\", \"C\"]\n",
        "    pos = [random.randint(0, len(alphabet) - 1) for i in range(2)]\n",
        "    return [alphabet[i] for i in pos]"
      ],
      "execution_count": 0,
      "outputs": []
    },
    {
      "cell_type": "code",
      "metadata": {
        "id": "x3PU0wMbJZ-g",
        "colab_type": "code",
        "colab": {}
      },
      "source": [
        "def create_genome(snp_length):\n",
        "    genome = []\n",
        "    for i in range(snp_length):\n",
        "        genome.append(output_SNP())\n",
        "    return genome"
      ],
      "execution_count": 0,
      "outputs": []
    },
    {
      "cell_type": "code",
      "metadata": {
        "id": "knEdw5qkJbgr",
        "colab_type": "code",
        "colab": {}
      },
      "source": [
        "def cross_over(length):\n",
        "    start = random.randint(0, 1)\n",
        "    switch_over = random.randint(0, length - 1)\n",
        "    selection = [start]\n",
        "    for i in range(length - 1):\n",
        "        if i < switch_over:\n",
        "            selection.append(start)\n",
        "        else:\n",
        "            selection.append(int(not start))\n",
        "    return selection"
      ],
      "execution_count": 0,
      "outputs": []
    },
    {
      "cell_type": "code",
      "metadata": {
        "id": "-RqH1OllJdJC",
        "colab_type": "code",
        "colab": {}
      },
      "source": [
        "def apply_cross_over(cross_over, genome):\n",
        "    return [genome[i][j] for i, j in zip(range(len(genome)), cross_over)]"
      ],
      "execution_count": 0,
      "outputs": []
    },
    {
      "cell_type": "code",
      "metadata": {
        "id": "xdFkr3gCJfmC",
        "colab_type": "code",
        "colab": {}
      },
      "source": [
        "def dephase(genome):\n",
        "    dephased_genome = []\n",
        "    for snp in genome:\n",
        "        new_snp = [i for i in snp]\n",
        "        random.shuffle(new_snp)\n",
        "        dephased_genome.append(new_snp)\n",
        "    return dephased_genome"
      ],
      "execution_count": 0,
      "outputs": []
    },
    {
      "cell_type": "code",
      "metadata": {
        "id": "7_51wwP6Jhqh",
        "colab_type": "code",
        "colab": {}
      },
      "source": [
        "def reproduce(genome1, genome2):\n",
        "    co1 = cross_over(len(genome1))\n",
        "    co2 = cross_over(len(genome2))\n",
        "    haplo1 = apply_cross_over(co1, genome1)\n",
        "    haplo2 = apply_cross_over(co2, genome2)\n",
        "    return [list(k) for k in zip(haplo1, haplo2)]"
      ],
      "execution_count": 0,
      "outputs": []
    },
    {
      "cell_type": "code",
      "metadata": {
        "id": "ct-SeohHJjgG",
        "colab_type": "code",
        "colab": {}
      },
      "source": [
        "length = 50\n",
        "\n",
        "genome1 = create_genome(length)\n",
        "genome2 = create_genome(length)\n",
        "offspring = reproduce(genome1, genome2)\n",
        "\n",
        "dephased_genome1 = dephase(genome1)\n",
        "dephased_genome2 = dephase(genome2)\n",
        "dephased_offspring = dephase(offspring)"
      ],
      "execution_count": 0,
      "outputs": []
    },
    {
      "cell_type": "code",
      "metadata": {
        "id": "OwINLy6yJscK",
        "colab_type": "code",
        "colab": {}
      },
      "source": [
        "def phase_offspring(genome1, genome2, offspring):\n",
        "    possibilities = []\n",
        "    phased_offspring = []\n",
        "    for snp_o, snp_g1, snp_g2 in zip(offspring, genome1, genome2):\n",
        "        snp_o = [i for i in snp_o]\n",
        "        possibility = [[], []]\n",
        "        for k in range(0, 2):\n",
        "            if snp_o[k] in snp_g1:\n",
        "                possibility[k].append(0)\n",
        "            if snp_o[k] in snp_g2:\n",
        "                possibility[k].append(1)\n",
        "        possibilities.append(possibility)\n",
        "        # The end statements protect us against a common failure mode which is false homozygosity,\n",
        "        # i.e. calling a homozygous A/A as opposed to A/T due to low coverage on T\n",
        "        if   (possibility[0] == [0] and 1 in possibility[1]) or (possibility[1] == [1] and 0 in possibility[0]):\n",
        "            phased_offspring.append(snp_o + [\"|\"])\n",
        "        elif (possibility[1] == [0] and 1 in possibility[0]) or (possibility[0] == [1] and 0 in possibility[1]):\n",
        "            phased_offspring.append(snp_o[::-1] + [\"-|\"])\n",
        "        else:\n",
        "            phased_offspring.append(snp_o + [\"?\"])\n",
        "    return phased_offspring"
      ],
      "execution_count": 0,
      "outputs": []
    },
    {
      "cell_type": "code",
      "metadata": {
        "id": "vJAqM7XyLG_n",
        "colab_type": "code",
        "outputId": "2d09f4ad-4dce-43e4-f4f1-a94a85cf9f1f",
        "colab": {
          "base_uri": "https://localhost:8080/",
          "height": 91
        }
      },
      "source": [
        "print(genome1)\n",
        "print(genome2)\n",
        "print(offspring)"
      ],
      "execution_count": 0,
      "outputs": [
        {
          "output_type": "stream",
          "text": [
            "[['G', 'C'], ['T', 'A'], ['A', 'C'], ['G', 'C'], ['G', 'G'], ['C', 'G'], ['T', 'G'], ['G', 'A'], ['C', 'G'], ['C', 'G'], ['C', 'G'], ['C', 'C'], ['C', 'G'], ['G', 'A'], ['C', 'G'], ['A', 'G'], ['A', 'C'], ['C', 'C'], ['C', 'C'], ['G', 'A'], ['A', 'A'], ['A', 'C'], ['T', 'A'], ['G', 'A'], ['G', 'T'], ['C', 'C'], ['T', 'A'], ['T', 'A'], ['C', 'T'], ['C', 'C'], ['T', 'A'], ['C', 'C'], ['C', 'C'], ['C', 'C'], ['C', 'G'], ['A', 'G'], ['G', 'G'], ['G', 'T'], ['T', 'T'], ['G', 'G'], ['G', 'C'], ['G', 'T'], ['A', 'C'], ['C', 'A'], ['T', 'C'], ['C', 'G'], ['A', 'C'], ['A', 'A'], ['T', 'A'], ['T', 'G']]\n",
            "[['C', 'A'], ['C', 'G'], ['T', 'G'], ['C', 'A'], ['G', 'G'], ['T', 'C'], ['A', 'A'], ['T', 'G'], ['T', 'G'], ['C', 'T'], ['A', 'C'], ['C', 'G'], ['C', 'A'], ['C', 'T'], ['T', 'A'], ['T', 'G'], ['T', 'C'], ['G', 'A'], ['A', 'C'], ['G', 'C'], ['A', 'G'], ['T', 'T'], ['G', 'G'], ['T', 'G'], ['G', 'C'], ['G', 'G'], ['T', 'A'], ['A', 'T'], ['C', 'T'], ['G', 'A'], ['C', 'G'], ['A', 'T'], ['G', 'C'], ['T', 'A'], ['C', 'A'], ['C', 'A'], ['G', 'G'], ['T', 'G'], ['T', 'C'], ['A', 'G'], ['A', 'T'], ['C', 'A'], ['T', 'T'], ['C', 'C'], ['T', 'A'], ['T', 'C'], ['C', 'A'], ['C', 'A'], ['T', 'A'], ['T', 'T']]\n",
            "[['G', 'A'], ['T', 'G'], ['A', 'G'], ['G', 'A'], ['G', 'G'], ['C', 'C'], ['T', 'A'], ['G', 'T'], ['C', 'T'], ['C', 'C'], ['C', 'A'], ['C', 'C'], ['G', 'C'], ['A', 'C'], ['G', 'T'], ['G', 'T'], ['C', 'T'], ['C', 'G'], ['C', 'A'], ['A', 'G'], ['A', 'A'], ['C', 'T'], ['A', 'G'], ['A', 'T'], ['T', 'G'], ['C', 'G'], ['A', 'T'], ['A', 'A'], ['T', 'C'], ['C', 'G'], ['A', 'C'], ['C', 'A'], ['C', 'G'], ['C', 'T'], ['G', 'C'], ['G', 'C'], ['G', 'G'], ['T', 'T'], ['T', 'T'], ['G', 'A'], ['C', 'A'], ['T', 'C'], ['C', 'T'], ['A', 'C'], ['C', 'T'], ['G', 'T'], ['C', 'C'], ['A', 'C'], ['A', 'T'], ['G', 'T']]\n"
          ],
          "name": "stdout"
        }
      ]
    },
    {
      "cell_type": "code",
      "metadata": {
        "id": "344UKNt_MpTL",
        "colab_type": "code",
        "outputId": "01b20667-5b18-4347-adba-df4c628b0cbf",
        "colab": {
          "base_uri": "https://localhost:8080/",
          "height": 55
        }
      },
      "source": [
        "input_test1 = phase_offspring(genome1, genome2, offspring)\n",
        "print(input_test1)"
      ],
      "execution_count": 0,
      "outputs": [
        {
          "output_type": "stream",
          "text": [
            "[['G', 'A', '|'], ['T', 'G', '|'], ['A', 'G', '|'], ['G', 'A', '|'], ['G', 'G', '?'], ['C', 'C', '?'], ['T', 'A', '|'], ['G', 'T', '|'], ['C', 'T', '|'], ['C', 'C', '?'], ['C', 'A', '|'], ['C', 'C', '?'], ['G', 'C', '|'], ['A', 'C', '|'], ['G', 'T', '|'], ['G', 'T', '|'], ['C', 'T', '|'], ['C', 'G', '|'], ['C', 'A', '|'], ['A', 'G', '|'], ['A', 'A', '?'], ['C', 'T', '|'], ['A', 'G', '|'], ['A', 'T', '|'], ['T', 'G', '|'], ['C', 'G', '|'], ['A', 'T', '?'], ['A', 'A', '?'], ['T', 'C', '?'], ['C', 'G', '|'], ['A', 'C', '|'], ['C', 'A', '|'], ['C', 'G', '|'], ['C', 'T', '|'], ['G', 'C', '|'], ['G', 'C', '|'], ['G', 'G', '?'], ['T', 'T', '?'], ['T', 'T', '?'], ['G', 'A', '|'], ['C', 'A', '|'], ['T', 'C', '|'], ['C', 'T', '|'], ['A', 'C', '|'], ['C', 'T', '|'], ['G', 'T', '|'], ['C', 'C', '?'], ['A', 'C', '|'], ['A', 'T', '?'], ['G', 'T', '|']]\n"
          ],
          "name": "stdout"
        }
      ]
    },
    {
      "cell_type": "code",
      "metadata": {
        "id": "zp8YfRhXRKpX",
        "colab_type": "code",
        "colab": {}
      },
      "source": [
        "h1, h2, _ = zip(*input_test1)"
      ],
      "execution_count": 0,
      "outputs": []
    },
    {
      "cell_type": "code",
      "metadata": {
        "id": "YVqH71PPRayJ",
        "colab_type": "code",
        "colab": {}
      },
      "source": [
        "for snp, snps in zip(h1, genome1):\n",
        "  assert snp in snps\n",
        "for snp, snps in zip(h2, genome2):\n",
        "  assert snp in snps"
      ],
      "execution_count": 0,
      "outputs": []
    },
    {
      "cell_type": "code",
      "metadata": {
        "id": "insbZJo9O_2u",
        "colab_type": "code",
        "outputId": "6379cce2-76f7-408d-fcde-2777b2a9ee45",
        "colab": {
          "base_uri": "https://localhost:8080/",
          "height": 71
        }
      },
      "source": [
        "print(dephased_genome1)\n",
        "print(dephased_genome2)\n",
        "print(dephased_offspring)"
      ],
      "execution_count": 0,
      "outputs": [
        {
          "output_type": "stream",
          "text": [
            "[['C', 'T'], ['G', 'C'], ['C', 'G'], ['G', 'C'], ['A', 'G'], ['A', 'C']]\n",
            "[['G', 'G'], ['A', 'A'], ['A', 'C'], ['C', 'G'], ['T', 'C'], ['A', 'T']]\n",
            "[['T', 'G'], ['A', 'G'], ['G', 'A'], ['G', 'C'], ['T', 'G'], ['T', 'A']]\n"
          ],
          "name": "stdout"
        }
      ]
    },
    {
      "cell_type": "code",
      "metadata": {
        "id": "ydr_BwH6LjjW",
        "colab_type": "code",
        "outputId": "c7b8888d-36e1-45f3-b10a-96be498abcb5",
        "colab": {
          "base_uri": "https://localhost:8080/",
          "height": 125
        }
      },
      "source": [
        "input_test2 = phase_offspring(dephased_genome1, dephased_genome2, dephased_offspring)\n",
        "input_test2"
      ],
      "execution_count": 0,
      "outputs": [
        {
          "output_type": "execute_result",
          "data": {
            "text/plain": [
              "[['T', 'G', '|'],\n",
              " ['G', 'A', '-|'],\n",
              " ['G', 'A', '|'],\n",
              " ['G', 'C', '?'],\n",
              " ['G', 'T', '-|'],\n",
              " ['A', 'T', '-|']]"
            ]
          },
          "metadata": {
            "tags": []
          },
          "execution_count": 35
        }
      ]
    },
    {
      "cell_type": "code",
      "metadata": {
        "id": "vT1QR1U2PK9b",
        "colab_type": "code",
        "colab": {}
      },
      "source": [
        "assert [i[0] for i in input_test1 if i[2] != \"?\"] == [i[0] for i in input_test2 if i[2] != \"?\"] "
      ],
      "execution_count": 0,
      "outputs": []
    },
    {
      "cell_type": "code",
      "metadata": {
        "id": "Fv2W5R7SPnqn",
        "colab_type": "code",
        "colab": {}
      },
      "source": [
        "assert [i[1] for i in input_test1 if i[2] != \"?\"] == [i[1] for i in input_test2 if i[2] != \"?\"] "
      ],
      "execution_count": 0,
      "outputs": []
    },
    {
      "cell_type": "code",
      "metadata": {
        "id": "TJUNPXU8P-c_",
        "colab_type": "code",
        "colab": {}
      },
      "source": [
        "for triplet1, triplet2 in zip(input_test1, input_test2):\n",
        "    if triplet1[2] == \"?\" or triplet2[2] == \"?\":\n",
        "        assert triplet1[2] == triplet2[2]"
      ],
      "execution_count": 0,
      "outputs": []
    },
    {
      "cell_type": "code",
      "metadata": {
        "id": "JCGGw1f2LlP9",
        "colab_type": "code",
        "colab": {}
      },
      "source": [
        "def load_vcf(filename, limit=-1, chrom_limit=\"\", phased=False):\n",
        "    genotype = {}\n",
        "    for i, record in enumerate(vcf.Reader(filename=filename)):\n",
        "        if record.CHROM == chrom_limit:\n",
        "            break\n",
        "        if i == limit:\n",
        "            break\n",
        "        snp = record.samples[0].gt_bases\n",
        "        if record.samples[0].phased:\n",
        "            a, b = snp.split(\"|\")\n",
        "        else:\n",
        "            a, b = snp.split(\"/\")\n",
        "        if phased and record.samples[0].phased or not phased:\n",
        "            genotype[(record.CHROM, record.POS)] = a, b\n",
        "    return genotype"
      ],
      "execution_count": 0,
      "outputs": []
    },
    {
      "cell_type": "code",
      "metadata": {
        "id": "TpSlGazJLuYN",
        "colab_type": "code",
        "colab": {}
      },
      "source": [
        "son = load_vcf(\"jewish_son_copy.vcf\", chrom_limit=\"chr2\")\n"
      ],
      "execution_count": 0,
      "outputs": []
    },
    {
      "cell_type": "code",
      "metadata": {
        "id": "iX-I7lHML30k",
        "colab_type": "code",
        "colab": {}
      },
      "source": [
        "mother = load_vcf(\"jewish_mother_copy.vcf\", chrom_limit=\"chr2\")\n"
      ],
      "execution_count": 0,
      "outputs": []
    },
    {
      "cell_type": "code",
      "metadata": {
        "id": "nLz1gSW7S_ce",
        "colab_type": "code",
        "colab": {}
      },
      "source": [
        "father = load_vcf(\"jewish_father_copy.vcf\", chrom_limit=\"chr2\")\n"
      ],
      "execution_count": 0,
      "outputs": []
    },
    {
      "cell_type": "code",
      "metadata": {
        "id": "dhJ4lzkRTBVq",
        "colab_type": "code",
        "colab": {}
      },
      "source": [
        "son_genome = []\n",
        "father_genome = []\n",
        "mother_genome = []\n",
        "shared_SNPs = sorted(list(set(son).intersection(set(mother)).intersection(set(father))))\n",
        "for chr_coord in shared_SNPs:\n",
        "    son_genome.append(son[chr_coord])\n",
        "    father_genome.append(father[chr_coord])\n",
        "    mother_genome.append(mother[chr_coord])"
      ],
      "execution_count": 0,
      "outputs": []
    },
    {
      "cell_type": "code",
      "metadata": {
        "id": "N_waWcTcT2_k",
        "colab_type": "code",
        "outputId": "79604e7a-c8a0-4481-e830-436c56495255",
        "colab": {
          "base_uri": "https://localhost:8080/",
          "height": 35
        }
      },
      "source": [
        "collections.Counter([i[0] for i in shared_SNPs])"
      ],
      "execution_count": 0,
      "outputs": [
        {
          "output_type": "execute_result",
          "data": {
            "text/plain": [
              "Counter({'chr1': 170171})"
            ]
          },
          "metadata": {
            "tags": []
          },
          "execution_count": 61
        }
      ]
    },
    {
      "cell_type": "code",
      "metadata": {
        "id": "G4tDkqUYUN5b",
        "colab_type": "code",
        "colab": {}
      },
      "source": [
        "chrom1_coords = [i[1] for i in shared_SNPs if i[0] == \"chr1\"]"
      ],
      "execution_count": 0,
      "outputs": []
    },
    {
      "cell_type": "code",
      "metadata": {
        "id": "gNH8xIrKUVVu",
        "colab_type": "code",
        "colab": {}
      },
      "source": [
        "length = chrom1_coords[-1] - chrom1_coords[0]"
      ],
      "execution_count": 0,
      "outputs": []
    },
    {
      "cell_type": "code",
      "metadata": {
        "id": "djW0Fi4JUb1J",
        "colab_type": "code",
        "outputId": "1f27d6c6-2601-4784-fd59-e45b298c48c9",
        "colab": {
          "base_uri": "https://localhost:8080/",
          "height": 35
        }
      },
      "source": [
        "length"
      ],
      "execution_count": 0,
      "outputs": [
        {
          "output_type": "execute_result",
          "data": {
            "text/plain": [
              "248097755"
            ]
          },
          "metadata": {
            "tags": []
          },
          "execution_count": 64
        }
      ]
    },
    {
      "cell_type": "markdown",
      "metadata": {
        "id": "36t8U8KTUvN8",
        "colab_type": "text"
      },
      "source": [
        "## Check average distance between SNPs"
      ]
    },
    {
      "cell_type": "code",
      "metadata": {
        "id": "wgFQ3qgVUibo",
        "colab_type": "code",
        "outputId": "5753f36b-7444-4e75-8d7e-055012512b3e",
        "colab": {
          "base_uri": "https://localhost:8080/",
          "height": 35
        }
      },
      "source": [
        "length/len(shared_SNPs)"
      ],
      "execution_count": 0,
      "outputs": [
        {
          "output_type": "execute_result",
          "data": {
            "text/plain": [
              "1457.932050701941"
            ]
          },
          "metadata": {
            "tags": []
          },
          "execution_count": 65
        }
      ]
    },
    {
      "cell_type": "code",
      "metadata": {
        "id": "THerkHnNUsTf",
        "colab_type": "code",
        "colab": {}
      },
      "source": [
        "phased_genome = phase_offspring(father_genome, mother_genome, son_genome)"
      ],
      "execution_count": 0,
      "outputs": []
    },
    {
      "cell_type": "code",
      "metadata": {
        "id": "BSZz3ZJxVIpJ",
        "colab_type": "code",
        "colab": {}
      },
      "source": [
        "phase_correctness = collections.Counter([i[-1] for i in phased_genome])"
      ],
      "execution_count": 0,
      "outputs": []
    },
    {
      "cell_type": "markdown",
      "metadata": {
        "id": "V9R1n-U4VKHV",
        "colab_type": "text"
      },
      "source": [
        "## Check fraction of incorrectly phased SNPs"
      ]
    },
    {
      "cell_type": "code",
      "metadata": {
        "id": "_iIcM30bVZ2M",
        "colab_type": "code",
        "outputId": "cf21b125-2153-41e6-a821-5e0d2d91607c",
        "colab": {
          "base_uri": "https://localhost:8080/",
          "height": 35
        }
      },
      "source": [
        "phase_correctness[\"-|\"]/len(phased_genome)"
      ],
      "execution_count": 0,
      "outputs": [
        {
          "output_type": "execute_result",
          "data": {
            "text/plain": [
              "0.0024445998436866444"
            ]
          },
          "metadata": {
            "tags": []
          },
          "execution_count": 71
        }
      ]
    },
    {
      "cell_type": "markdown",
      "metadata": {
        "id": "rKT06QGcV50B",
        "colab_type": "text"
      },
      "source": [
        "## Average distance per SNP suitable for trio phasing"
      ]
    },
    {
      "cell_type": "code",
      "metadata": {
        "id": "GMJVV6TYWBHg",
        "colab_type": "code",
        "outputId": "45625f10-3f9c-4273-f64a-a333b6f4147e",
        "colab": {
          "base_uri": "https://localhost:8080/",
          "height": 35
        }
      },
      "source": [
        "length/collections.Counter([i[-1] for i in phased_genome])[\"|\"]"
      ],
      "execution_count": 0,
      "outputs": [
        {
          "output_type": "execute_result",
          "data": {
            "text/plain": [
              "7228.955565268066"
            ]
          },
          "metadata": {
            "tags": []
          },
          "execution_count": 84
        }
      ]
    },
    {
      "cell_type": "markdown",
      "metadata": {
        "id": "zyUUOnUxWQd4",
        "colab_type": "text"
      },
      "source": [
        "This suggest that trio data allows phasing to within \\~7 kilobases. An expectation would be that, due to the fact that one of the sequencing technologies used linked reads, which should allow for perfect phasing locally (up to [~50 kilobases](https://support.10xgenomics.com/genome-exome/sample-prep/doc/demonstrated-protocol-hmw-dna-extraction-from-whole-blood)), one would get a perfectly phased genome. However, from reading the GIAB paper it is unclear if linked reads were used in the phasing of the son's genotype: it appears that the pipeline used haplotype caller for the local phasing followed by pedigree phasing. The relevant sections are \"Trio Mendelian analysis and phasing\" as well \"Phase transfer\" in the [GIAB paper](https://www.nature.com/articles/s41587-019-0074-6.epdf?author_access_token=ewLdT4uP1jBiKAyJwAcYqdRgN0jAjWel9jnR3ZoTv0MC7r9js5eiMd8JOYV6BtmURFzOgi_efMREltCeCUbIMBRyA_gIv2G9qZgeMpo9LNcKpLG1_Cwxe2LAkjdrrr1Gy7vw-DLu8csTHvwSl5kdFA%3D%3D). In any case, one can conservatively assume that phasing to within 7kB is done correctly, or even more conservatively, one could restrict the analysis to correctly phased SNPs from the trio only."
      ]
    },
    {
      "cell_type": "code",
      "metadata": {
        "id": "IlkdhkaQZwFS",
        "colab_type": "code",
        "outputId": "285d2e7e-7e4f-4e04-c5da-f81a2a334e55",
        "colab": {
          "base_uri": "https://localhost:8080/",
          "height": 1000
        }
      },
      "source": [
        "phased_genome"
      ],
      "execution_count": 0,
      "outputs": [
        {
          "output_type": "execute_result",
          "data": {
            "text/plain": [
              "[['A', 'A', '?'],\n",
              " ['G', 'G', '?'],\n",
              " ['G', 'G', '?'],\n",
              " ['A', 'A', '?'],\n",
              " ['C', 'C', '?'],\n",
              " ['G', 'G', '?'],\n",
              " ['G', 'G', '?'],\n",
              " ['G', 'G', '?'],\n",
              " ['C', 'C', '?'],\n",
              " ['A', 'A', '?'],\n",
              " ['T', 'T', '?'],\n",
              " ['T', 'T', '?'],\n",
              " ['C', 'C', '?'],\n",
              " ['A', 'A', '?'],\n",
              " ['T', 'T', '?'],\n",
              " ['C', 'C', '?'],\n",
              " ['AT', 'AT', '?'],\n",
              " ['A', 'A', '?'],\n",
              " ['C', 'C', '?'],\n",
              " ['G', 'G', '?'],\n",
              " ['C', 'C', '?'],\n",
              " ['A', 'A', '?'],\n",
              " ['A', 'A', '?'],\n",
              " ['A', 'A', '?'],\n",
              " ['AGTTTT', 'AGTTTT', '?'],\n",
              " ['C', 'C', '?'],\n",
              " ['A', 'A', '?'],\n",
              " ['T', 'T', '?'],\n",
              " ['T', 'T', '?'],\n",
              " ['C', 'C', '?'],\n",
              " ['C', 'C', '?'],\n",
              " ['G', 'G', '?'],\n",
              " ['T', 'T', '?'],\n",
              " ['CCT', 'CCT', '?'],\n",
              " ['G', 'G', '?'],\n",
              " ['T', 'T', '?'],\n",
              " ['A', 'A', '?'],\n",
              " ['C', 'C', '?'],\n",
              " ['A', 'A', '?'],\n",
              " ['C', 'C', '?'],\n",
              " ['A', 'A', '?'],\n",
              " ['T', 'T', '?'],\n",
              " ['T', 'T', '?'],\n",
              " ['T', 'T', '?'],\n",
              " ['CAT', 'CAT', '?'],\n",
              " ['G', 'G', '?'],\n",
              " ['G', 'G', '?'],\n",
              " ['T', 'T', '?'],\n",
              " ['T', 'T', '?'],\n",
              " ['G', 'G', '?'],\n",
              " ['C', 'C', '?'],\n",
              " ['A', 'A', '?'],\n",
              " ['C', 'C', '?'],\n",
              " ['G', 'G', '?'],\n",
              " ['A', 'A', '?'],\n",
              " ['G', 'G', '?'],\n",
              " ['A', 'A', '?'],\n",
              " ['A', 'A', '?'],\n",
              " ['G', 'G', '?'],\n",
              " ['C', 'C', '?'],\n",
              " ['T', 'T', '?'],\n",
              " ['CAG', 'CAG', '?'],\n",
              " ['A', 'A', '?'],\n",
              " ['T', 'T', '?'],\n",
              " ['C', 'C', '?'],\n",
              " ['G', 'G', '?'],\n",
              " ['C', 'C', '?'],\n",
              " ['C', 'C', '?'],\n",
              " ['C', 'C', '?'],\n",
              " ['C', 'C', '?'],\n",
              " ['C', 'C', '?'],\n",
              " ['A', 'A', '?'],\n",
              " ['A', 'A', '?'],\n",
              " ['T', 'T', '?'],\n",
              " ['G', 'G', '?'],\n",
              " ['A', 'A', '?'],\n",
              " ['A', 'A', '?'],\n",
              " ['G', 'G', '?'],\n",
              " ['A', 'A', '?'],\n",
              " ['A', 'A', '?'],\n",
              " ['AAGAC', 'AAGAC', '?'],\n",
              " ['T', 'T', '?'],\n",
              " ['G', 'G', '?'],\n",
              " ['C', 'C', '?'],\n",
              " ['C', 'C', '?'],\n",
              " ['C', 'C', '?'],\n",
              " ['C', 'C', '?'],\n",
              " ['A', 'A', '?'],\n",
              " ['G', 'G', '?'],\n",
              " ['C', 'C', '?'],\n",
              " ['A', 'A', '?'],\n",
              " ['G', 'G', '?'],\n",
              " ['G', 'G', '?'],\n",
              " ['G', 'G', '?'],\n",
              " ['A', 'A', '?'],\n",
              " ['G', 'G', '?'],\n",
              " ['A', 'A', '?'],\n",
              " ['ATG', 'A', '|'],\n",
              " ['T', 'T', '?'],\n",
              " ['C', 'C', '?'],\n",
              " ['G', 'G', '?'],\n",
              " ['G', 'G', '?'],\n",
              " ['G', 'G', '?'],\n",
              " ['T', 'T', '?'],\n",
              " ['A', 'A', '?'],\n",
              " ['T', 'T', '?'],\n",
              " ['C', 'C', '?'],\n",
              " ['G', 'G', '?'],\n",
              " ['T', 'T', '?'],\n",
              " ['T', 'T', '?'],\n",
              " ['T', 'T', '?'],\n",
              " ['T', 'T', '?'],\n",
              " ['T', 'T', '?'],\n",
              " ['A', 'A', '?'],\n",
              " ['G', 'G', '?'],\n",
              " ['G', 'G', '?'],\n",
              " ['A', 'A', '?'],\n",
              " ['T', 'T', '?'],\n",
              " ['AAAC', 'AAAC', '?'],\n",
              " ['A', 'A', '?'],\n",
              " ['TA', 'TA', '?'],\n",
              " ['G', 'G', '?'],\n",
              " ['C', 'C', '?'],\n",
              " ['A', 'A', '?'],\n",
              " ['G', 'G', '?'],\n",
              " ['T', 'T', '?'],\n",
              " ['G', 'G', '?'],\n",
              " ['C', 'C', '?'],\n",
              " ['T', 'T', '?'],\n",
              " ['T', 'T', '?'],\n",
              " ['T', 'T', '?'],\n",
              " ['T', 'T', '?'],\n",
              " ['A', 'A', '?'],\n",
              " ['A', 'A', '?'],\n",
              " ['C', 'C', '?'],\n",
              " ['A', 'A', '?'],\n",
              " ['A', 'A', '?'],\n",
              " ['G', 'G', '?'],\n",
              " ['C', 'C', '?'],\n",
              " ['T', 'T', '?'],\n",
              " ['TTGTAGTCTGACCTGTGGTCTGAC', 'TTGTAGTCTGACCTGTGGTCTGAC', '?'],\n",
              " ['A', 'A', '?'],\n",
              " ['C', 'C', '?'],\n",
              " ['C', 'C', '?'],\n",
              " ['A', 'A', '?'],\n",
              " ['A', 'A', '?'],\n",
              " ['T', 'T', '?'],\n",
              " ['T', 'T', '?'],\n",
              " ['T', 'T', '?'],\n",
              " ['T', 'T', '?'],\n",
              " ['C', 'C', '?'],\n",
              " ['G', 'G', '?'],\n",
              " ['C', 'C', '?'],\n",
              " ['T', 'T', '?'],\n",
              " ['A', 'A', '?'],\n",
              " ['G', 'G', '?'],\n",
              " ['A', 'A', '?'],\n",
              " ['T', 'T', '?'],\n",
              " ['G', 'G', '?'],\n",
              " ['T', 'T', '?'],\n",
              " ['T', 'T', '?'],\n",
              " ['G', 'G', '?'],\n",
              " ['G', 'G', '?'],\n",
              " ['A', 'A', '?'],\n",
              " ['C', 'C', '?'],\n",
              " ['T', 'T', '?'],\n",
              " ['G', 'G', '?'],\n",
              " ['T', 'T', '?'],\n",
              " ['T', 'T', '?'],\n",
              " ['A', 'A', '?'],\n",
              " ['G', 'G', '?'],\n",
              " ['C', 'C', '?'],\n",
              " ['A', 'A', '?'],\n",
              " ['T', 'T', '?'],\n",
              " ['C', 'C', '?'],\n",
              " ['A', 'A', '?'],\n",
              " ['G', 'G', '?'],\n",
              " ['G', 'G', '?'],\n",
              " ['G', 'G', '?'],\n",
              " ['C', 'C', '?'],\n",
              " ['C', 'C', '?'],\n",
              " ['C', 'C', '?'],\n",
              " ['C', 'C', '?'],\n",
              " ['C', 'C', '?'],\n",
              " ['A', 'A', '?'],\n",
              " ['T', 'T', '?'],\n",
              " ['T', 'T', '?'],\n",
              " ['G', 'G', '?'],\n",
              " ['CGT', 'CGT', '?'],\n",
              " ['T', 'T', '?'],\n",
              " ['C', 'C', '?'],\n",
              " ['T', 'T', '?'],\n",
              " ['T', 'T', '?'],\n",
              " ['T', 'T', '?'],\n",
              " ['A', 'A', '?'],\n",
              " ['A', 'A', '?'],\n",
              " ['T', 'T', '?'],\n",
              " ['T', 'T', '?'],\n",
              " ['A', 'A', '?'],\n",
              " ['A', 'A', '?'],\n",
              " ['A', 'A', '?'],\n",
              " ['T', 'T', '?'],\n",
              " ['G', 'G', '?'],\n",
              " ['G', 'G', '?'],\n",
              " ['C', 'C', '?'],\n",
              " ['A', 'A', '?'],\n",
              " ['T', 'T', '?'],\n",
              " ['G', 'G', '?'],\n",
              " ['T', 'T', '?'],\n",
              " ['A', 'A', '?'],\n",
              " ['G', 'G', '?'],\n",
              " ['G', 'G', '?'],\n",
              " ['T', 'T', '?'],\n",
              " ['G', 'G', '?'],\n",
              " ['C', 'C', '?'],\n",
              " ['G', 'G', '?'],\n",
              " ['C', 'C', '?'],\n",
              " ['T', 'C', '|'],\n",
              " ['G', 'C', '|'],\n",
              " ['A', 'G', '|'],\n",
              " ['C', 'CT', '|'],\n",
              " ['T', 'C', '|'],\n",
              " ['A', 'G', '|'],\n",
              " ['A', 'G', '|'],\n",
              " ['T', 'C', '|'],\n",
              " ['CAG', 'C', '|'],\n",
              " ['T', 'TGG', '|'],\n",
              " ['T', 'G', '|'],\n",
              " ['GT', 'G', '|'],\n",
              " ['T', 'G', '|'],\n",
              " ['C', 'T', '|'],\n",
              " ['G', 'C', '|'],\n",
              " ['T', 'C', '|'],\n",
              " ['G', 'C', '|'],\n",
              " ['G', 'A', '|'],\n",
              " ['T', 'C', '|'],\n",
              " ['G', 'G', '?'],\n",
              " ['C', 'A', '|'],\n",
              " ['G', 'G', '?'],\n",
              " ['G', 'C', '|'],\n",
              " ['G', 'A', '|'],\n",
              " ['T', 'C', '|'],\n",
              " ['C', 'T', '|'],\n",
              " ['T', 'C', '|'],\n",
              " ['T', 'G', '|'],\n",
              " ['CCCCA', 'C', '|'],\n",
              " ['G', 'G', '?'],\n",
              " ['C', 'G', '|'],\n",
              " ['TC', 'T', '|'],\n",
              " ['A', 'C', '|'],\n",
              " ['C', 'T', '|'],\n",
              " ['C', 'A', '|'],\n",
              " ['C', 'T', '|'],\n",
              " ['G', 'G', '?'],\n",
              " ['T', 'C', '|'],\n",
              " ['T', 'TCA', '|'],\n",
              " ['T', 'G', '|'],\n",
              " ['C', 'C', '?'],\n",
              " ['C', 'C', '?'],\n",
              " ['C', 'C', '?'],\n",
              " ['G', 'G', '?'],\n",
              " ['G', 'G', '?'],\n",
              " ['G', 'G', '?'],\n",
              " ['G', 'G', '?'],\n",
              " ['G', 'G', '?'],\n",
              " ['G', 'G', '?'],\n",
              " ['G', 'G', '?'],\n",
              " ['A', 'A', '?'],\n",
              " ['A', 'A', '?'],\n",
              " ['G', 'G', '?'],\n",
              " ['C', 'C', '?'],\n",
              " ['A', 'A', '?'],\n",
              " ['A', 'A', '?'],\n",
              " ['G', 'G', '?'],\n",
              " ['A', 'A', '?'],\n",
              " ['G', 'G', '?'],\n",
              " ['T', 'T', '?'],\n",
              " ['T', 'T', '?'],\n",
              " ['G', 'G', '?'],\n",
              " ['C', 'C', '?'],\n",
              " ['C', 'C', '?'],\n",
              " ['C', 'C', '?'],\n",
              " ['T', 'T', '?'],\n",
              " ['T', 'T', '?'],\n",
              " ['A', 'A', '?'],\n",
              " ['A', 'A', '?'],\n",
              " ['C', 'C', '?'],\n",
              " ['G', 'G', '?'],\n",
              " ['C', 'C', '?'],\n",
              " ['C', 'C', '?'],\n",
              " ['C', 'C', '?'],\n",
              " ['A', 'A', '?'],\n",
              " ['G', 'G', '?'],\n",
              " ['G', 'G', '?'],\n",
              " ['C', 'C', '?'],\n",
              " ['G', 'G', '?'],\n",
              " ['C', 'C', '?'],\n",
              " ['G', 'G', '?'],\n",
              " ['G', 'G', '?'],\n",
              " ['G', 'G', '?'],\n",
              " ['G', 'G', '?'],\n",
              " ['G', 'G', '?'],\n",
              " ['G', 'G', '?'],\n",
              " ['A', 'A', '?'],\n",
              " ['G', 'G', '?'],\n",
              " ['A', 'A', '?'],\n",
              " ['GACAC', 'GACAC', '?'],\n",
              " ['C', 'C', '?'],\n",
              " ['C', 'C', '?'],\n",
              " ['C', 'C', '?'],\n",
              " ['A', 'A', '?'],\n",
              " ['G', 'G', '?'],\n",
              " ['A', 'G', '?'],\n",
              " ['C', 'C', '?'],\n",
              " ['A', 'G', '?'],\n",
              " ['A', 'A', '?'],\n",
              " ['C', 'G', '?'],\n",
              " ['G', 'C', '?'],\n",
              " ['C', 'C', '?'],\n",
              " ['G', 'G', '?'],\n",
              " ['A', 'A', '?'],\n",
              " ['AC', 'AC', '?'],\n",
              " ['C', 'C', '?'],\n",
              " ['T', 'T', '?'],\n",
              " ['T', 'T', '?'],\n",
              " ['G', 'G', '?'],\n",
              " ['T', 'T', '?'],\n",
              " ['G', 'G', '?'],\n",
              " ['T', 'T', '?'],\n",
              " ['T', 'T', '?'],\n",
              " ['C', 'C', '?'],\n",
              " ['A', 'A', '?'],\n",
              " ['G', 'G', '?'],\n",
              " ['T', 'T', '?'],\n",
              " ['T', 'T', '?'],\n",
              " ['A', 'A', '?'],\n",
              " ['C', 'C', '?'],\n",
              " ['G', 'G', '?'],\n",
              " ['T', 'T', '?'],\n",
              " ['C', 'C', '?'],\n",
              " ['C', 'C', '?'],\n",
              " ['G', 'G', '?'],\n",
              " ['C', 'C', '?'],\n",
              " ['C', 'C', '?'],\n",
              " ['C', 'C', '?'],\n",
              " ['G', 'G', '?'],\n",
              " ['C', 'C', '?'],\n",
              " ['C', 'C', '?'],\n",
              " ['G', 'G', '?'],\n",
              " ['GAC', 'GAC', '?'],\n",
              " ['G', 'G', '?'],\n",
              " ['C', 'C', '?'],\n",
              " ['CCCTCAGCTGGACT', 'CCCTCAGCTGGACT', '?'],\n",
              " ['C', 'C', '?'],\n",
              " ['C', 'C', '?'],\n",
              " ['A', 'A', '?'],\n",
              " ['C', 'C', '?'],\n",
              " ['C', 'C', '?'],\n",
              " ['A', 'A', '?'],\n",
              " ['A', 'A', '?'],\n",
              " ['T', 'T', '?'],\n",
              " ['T', 'T', '?'],\n",
              " ['G', 'G', '?'],\n",
              " ['G', 'G', '?'],\n",
              " ['C', 'C', '?'],\n",
              " ['A', 'A', '?'],\n",
              " ['C', 'C', '?'],\n",
              " ['G', 'G', '?'],\n",
              " ['T', 'T', '?'],\n",
              " ['T', 'T', '?'],\n",
              " ['C', 'C', '?'],\n",
              " ['C', 'C', '?'],\n",
              " ['A', 'A', '?'],\n",
              " ['G', 'G', '?'],\n",
              " ['C', 'C', '?'],\n",
              " ['A', 'A', '?'],\n",
              " ['C', 'C', '?'],\n",
              " ['T', 'T', '?'],\n",
              " ['C', 'C', '?'],\n",
              " ['A', 'A', '?'],\n",
              " ['T', 'T', '?'],\n",
              " ['A', 'A', '?'],\n",
              " ['A', 'A', '?'],\n",
              " ['A', 'A', '?'],\n",
              " ['A', 'A', '?'],\n",
              " ['T', 'T', '?'],\n",
              " ['T', 'T', '?'],\n",
              " ['G', 'G', '?'],\n",
              " ['G', 'G', '?'],\n",
              " ['G', 'G', '?'],\n",
              " ['AAC', 'AAC', '?'],\n",
              " ['G', 'G', '?'],\n",
              " ['T', 'T', '?'],\n",
              " ['T', 'T', '?'],\n",
              " ['C', 'C', '?'],\n",
              " ['G', 'G', '?'],\n",
              " ['T', 'T', '?'],\n",
              " ['G', 'G', '?'],\n",
              " ['G', 'G', '?'],\n",
              " ['C', 'C', '?'],\n",
              " ['C', 'C', '?'],\n",
              " ['G', 'G', '?'],\n",
              " ['AT', 'AT', '?'],\n",
              " ['G', 'G', '?'],\n",
              " ['TCAAAAAAA', 'TCAAAAAAA', '?'],\n",
              " ['G', 'G', '?'],\n",
              " ['G', 'G', '?'],\n",
              " ['G', 'G', '?'],\n",
              " ['A', 'A', '?'],\n",
              " ['A', 'A', '?'],\n",
              " ['C', 'C', '?'],\n",
              " ['TAC', 'TAC', '?'],\n",
              " ['G', 'G', '?'],\n",
              " ['C', 'C', '?'],\n",
              " ['A', 'A', '?'],\n",
              " ['T', 'T', '?'],\n",
              " ['C', 'C', '?'],\n",
              " ['C', 'C', '?'],\n",
              " ['C', 'C', '?'],\n",
              " ['C', 'C', '?'],\n",
              " ['C', 'C', '?'],\n",
              " ['C', 'C', '?'],\n",
              " ['C', 'C', '?'],\n",
              " ['G', 'G', '?'],\n",
              " ['G', 'G', '?'],\n",
              " ['C', 'C', '?'],\n",
              " ['G', 'G', '?'],\n",
              " ['C', 'C', '?'],\n",
              " ['A', 'A', '?'],\n",
              " ['G', 'G', '?'],\n",
              " ['C', 'C', '?'],\n",
              " ['C', 'C', '?'],\n",
              " ['C', 'C', '?'],\n",
              " ['A', 'A', '?'],\n",
              " ['G', 'G', '?'],\n",
              " ['G', 'G', '?'],\n",
              " ['G', 'G', '?'],\n",
              " ['C', 'C', '?'],\n",
              " ['C', 'C', '?'],\n",
              " ['TAAA', 'TA', '|'],\n",
              " ['C', 'C', '?'],\n",
              " ['C', 'C', '?'],\n",
              " ['G', 'G', '?'],\n",
              " ['T', 'T', '?'],\n",
              " ['G', 'G', '?'],\n",
              " ['T', 'T', '?'],\n",
              " ['C', 'C', '?'],\n",
              " ['A', 'A', '?'],\n",
              " ['A', 'A', '?'],\n",
              " ['C', 'C', '?'],\n",
              " ['G', 'G', '?'],\n",
              " ['G', 'G', '?'],\n",
              " ['AAAATAAAT', 'AAAATAAATAAAT', '|'],\n",
              " ['G', 'G', '?'],\n",
              " ['C', 'C', '?'],\n",
              " ['G', 'G', '?'],\n",
              " ['G', 'A', '|'],\n",
              " ['G', 'A', '|'],\n",
              " ['G', 'A', '|'],\n",
              " ['A', 'C', '|'],\n",
              " ['G', 'A', '|'],\n",
              " ['T', 'C', '|'],\n",
              " ['G', 'T', '|'],\n",
              " ['C', 'T', '|'],\n",
              " ['G', 'A', '|'],\n",
              " ['G', 'A', '|'],\n",
              " ['G', 'A', '|'],\n",
              " ['T', 'A', '|'],\n",
              " ['C', 'C', '?'],\n",
              " ['C', 'C', '?'],\n",
              " ['C', 'C', '?'],\n",
              " ['GTGAA', 'GTGAA', '?'],\n",
              " ['A', 'A', '?'],\n",
              " ['A', 'A', '?'],\n",
              " ['C', 'C', '?'],\n",
              " ['T', 'C', '?'],\n",
              " ['A', 'G', '?'],\n",
              " ['A', 'A', '?'],\n",
              " ['T', 'T', '?'],\n",
              " ['C', 'C', '?'],\n",
              " ['A', 'G', '|'],\n",
              " ['G', 'G', '?'],\n",
              " ['C', 'C', '?'],\n",
              " ['CGGGCCG', 'CGGGCCG', '?'],\n",
              " ['A', 'A', '?'],\n",
              " ['C', 'C', '?'],\n",
              " ['CA', 'CA', '?'],\n",
              " ['T', 'T', '?'],\n",
              " ['C', 'C', '?'],\n",
              " ['G', 'G', '?'],\n",
              " ['A', 'A', '?'],\n",
              " ['A', 'A', '?'],\n",
              " ['A', 'A', '?'],\n",
              " ['GT', 'GT', '?'],\n",
              " ['T', 'T', '?'],\n",
              " ['G', 'G', '?'],\n",
              " ['A', 'A', '?'],\n",
              " ['T', 'T', '?'],\n",
              " ['A', 'A', '?'],\n",
              " ['A', 'A', '?'],\n",
              " ['C', 'C', '?'],\n",
              " ['T', 'T', '?'],\n",
              " ['C', 'C', '?'],\n",
              " ['C', 'C', '?'],\n",
              " ['A', 'A', '?'],\n",
              " ['C', 'C', '?'],\n",
              " ['A', 'A', '?'],\n",
              " ['T', 'T', '?'],\n",
              " ['A', 'A', '?'],\n",
              " ['A', 'A', '?'],\n",
              " ['T', 'T', '?'],\n",
              " ['A', 'A', '?'],\n",
              " ['C', 'C', '?'],\n",
              " ['T', 'T', '?'],\n",
              " ['G', 'G', '?'],\n",
              " ['T', 'T', '?'],\n",
              " ['C', 'C', '?'],\n",
              " ['G', 'G', '?'],\n",
              " ['G', 'G', '?'],\n",
              " ['G', 'G', '?'],\n",
              " ['G', 'G', '?'],\n",
              " ['A', 'A', '?'],\n",
              " ['T', 'T', '?'],\n",
              " ['G', 'G', '?'],\n",
              " ['A', 'A', '?'],\n",
              " ['C', 'C', '?'],\n",
              " ['T', 'T', '?'],\n",
              " ['GCCGC', 'GCCGC', '?'],\n",
              " ['T', 'T', '?'],\n",
              " ['T', 'T', '?'],\n",
              " ['A', 'G', '?'],\n",
              " ['G', 'T', '|'],\n",
              " ['T', 'C', '?'],\n",
              " ['A', 'G', '?'],\n",
              " ['C', 'G', '?'],\n",
              " ['A', 'G', '?'],\n",
              " ['A', 'G', '?'],\n",
              " ['T', 'C', '?'],\n",
              " ['A', 'G', '?'],\n",
              " ['A', 'C', '?'],\n",
              " ['A', 'G', '?'],\n",
              " ['C', 'CACCTGGGCGTGTGACCTGGGCGTGTG', '|'],\n",
              " ['GC', 'G', '?'],\n",
              " ['T', 'C', '?'],\n",
              " ['T', 'C', '|'],\n",
              " ['A', 'G', '?'],\n",
              " ['T', 'C', '?'],\n",
              " ['A', 'G', '|'],\n",
              " ['T', 'C', '?'],\n",
              " ['T', 'C', '?'],\n",
              " ['T', 'C', '?'],\n",
              " ['G', 'T', '?'],\n",
              " ['C', 'T', '?'],\n",
              " ['A', 'G', '?'],\n",
              " ['A', 'G', '?'],\n",
              " ['A', 'G', '?'],\n",
              " ['C', 'T', '?'],\n",
              " ['A', 'C', '?'],\n",
              " ['G', 'A', '?'],\n",
              " ['G', 'A', '?'],\n",
              " ['G', 'C', '?'],\n",
              " ['C', 'T', '?'],\n",
              " ['C', 'T', '?'],\n",
              " ['G', 'A', '?'],\n",
              " ['G', 'A', '?'],\n",
              " ['C', 'CG', '?'],\n",
              " ['T', 'A', '?'],\n",
              " ['T', 'C', '?'],\n",
              " ['C', 'T', '?'],\n",
              " ['C', 'C', '?'],\n",
              " ['T', 'C', '?'],\n",
              " ['A', 'G', '?'],\n",
              " ['A', 'G', '?'],\n",
              " ['C', 'C', '?'],\n",
              " ['C', 'C', '?'],\n",
              " ['C', 'C', '?'],\n",
              " ['G', 'G', '?'],\n",
              " ['T', 'T', '?'],\n",
              " ['C', 'C', '?'],\n",
              " ['C', 'C', '?'],\n",
              " ['C', 'C', '?'],\n",
              " ['T', 'T', '?'],\n",
              " ['A', 'A', '?'],\n",
              " ['C', 'C', '?'],\n",
              " ['C', 'T', '|'],\n",
              " ['T', 'T', '?'],\n",
              " ['G', 'G', '?'],\n",
              " ['C', 'C', '?'],\n",
              " ['G', 'G', '?'],\n",
              " ['AAGAT', 'AAGAT', '?'],\n",
              " ['C', 'C', '?'],\n",
              " ['G', 'G', '?'],\n",
              " ['C', 'C', '?'],\n",
              " ['G', 'G', '?'],\n",
              " ['A', 'A', '?'],\n",
              " ['T', 'C', '|'],\n",
              " ['T', 'T', '?'],\n",
              " ['C', 'C', '?'],\n",
              " ['G', 'G', '?'],\n",
              " ['C', 'C', '?'],\n",
              " ['C', 'C', '?'],\n",
              " ['T', 'T', '?'],\n",
              " ['C', 'C', '?'],\n",
              " ['T', 'T', '?'],\n",
              " ['C', 'C', '?'],\n",
              " ['AT', 'AT', '?'],\n",
              " ['GT', 'GT', '?'],\n",
              " ['T', 'T', '?'],\n",
              " ['C', 'C', '?'],\n",
              " ['C', 'C', '?'],\n",
              " ['TGGG', 'T', '?'],\n",
              " ['A', 'A', '?'],\n",
              " ['G', 'G', '?'],\n",
              " ['G', 'G', '?'],\n",
              " ['G', 'G', '?'],\n",
              " ['A', 'A', '?'],\n",
              " ['A', 'A', '?'],\n",
              " ['C', 'C', '?'],\n",
              " ['A', 'A', '?'],\n",
              " ['A', 'A', '?'],\n",
              " ['T', 'T', '?'],\n",
              " ['C', 'C', '?'],\n",
              " ['T', 'T', '?'],\n",
              " ['C', 'C', '?'],\n",
              " ['A', 'A', '?'],\n",
              " ['A', 'A', '?'],\n",
              " ['G', 'G', '?'],\n",
              " ['C', 'C', '?'],\n",
              " ['G', 'G', '?'],\n",
              " ['T', 'T', '?'],\n",
              " ['G', 'G', '?'],\n",
              " ['C', 'C', '?'],\n",
              " ['C', 'C', '?'],\n",
              " ['G', 'G', '?'],\n",
              " ['G', 'G', '?'],\n",
              " ['G', 'G', '?'],\n",
              " ['A', 'A', '?'],\n",
              " ['C', 'C', '?'],\n",
              " ['A', 'A', '?'],\n",
              " ['A', 'A', '?'],\n",
              " ['G', 'G', '?'],\n",
              " ['A', 'A', '?'],\n",
              " ['A', 'A', '?'],\n",
              " ['C', 'C', '?'],\n",
              " ['A', 'A', '?'],\n",
              " ['G', 'G', '?'],\n",
              " ['T', 'T', '?'],\n",
              " ['C', 'C', '?'],\n",
              " ['A', 'A', '?'],\n",
              " ['T', 'T', '?'],\n",
              " ['C', 'C', '?'],\n",
              " ['T', 'T', '?'],\n",
              " ['T', 'T', '?'],\n",
              " ['G', 'G', '?'],\n",
              " ['C', 'C', '?'],\n",
              " ['G', 'G', '?'],\n",
              " ['T', 'T', '?'],\n",
              " ['A', 'A', '?'],\n",
              " ['G', 'G', '?'],\n",
              " ['C', 'C', '?'],\n",
              " ['T', 'T', '?'],\n",
              " ['C', 'C', '?'],\n",
              " ['C', 'C', '?'],\n",
              " ['C', 'C', '?'],\n",
              " ['A', 'A', '?'],\n",
              " ['C', 'C', '?'],\n",
              " ['C', 'C', '?'],\n",
              " ['T', 'T', '?'],\n",
              " ['A', 'A', '?'],\n",
              " ['C', 'C', '?'],\n",
              " ['C', 'C', '?'],\n",
              " ['C', 'C', '?'],\n",
              " ['AG', 'AG', '?'],\n",
              " ['ACT', 'ACT', '?'],\n",
              " ['A', 'A', '?'],\n",
              " ['A', 'A', '?'],\n",
              " ['T', 'T', '?'],\n",
              " ['GTTGT', 'GTTGT', '?'],\n",
              " ['G', 'G', '?'],\n",
              " ['G', 'G', '?'],\n",
              " ['A', 'A', '?'],\n",
              " ['C', 'C', '?'],\n",
              " ['A', 'A', '?'],\n",
              " ['A', 'A', '?'],\n",
              " ['C', 'C', '?'],\n",
              " ['A', 'A', '?'],\n",
              " ['C', 'T', '?'],\n",
              " ['T', 'C', '?'],\n",
              " ['C', 'CACAACCACA', '?'],\n",
              " ['A', 'G', '?'],\n",
              " ['A', 'C', '?'],\n",
              " ['G', 'G', '?'],\n",
              " ['T', 'G', '?'],\n",
              " ['A', 'G', '?'],\n",
              " ['C', 'T', '?'],\n",
              " ['G', 'A', '?'],\n",
              " ['T', 'T', '?'],\n",
              " ['G', 'G', '?'],\n",
              " ['C', 'C', '?'],\n",
              " ['G', 'A', '?'],\n",
              " ['A', 'G', '?'],\n",
              " ['A', 'G', '?'],\n",
              " ['A', 'G', '?'],\n",
              " ['A', 'G', '?'],\n",
              " ['C', 'CA', '?'],\n",
              " ['A', 'AAAG', '?'],\n",
              " ['T', 'C', '?'],\n",
              " ['T', 'C', '?'],\n",
              " ['A', 'G', '|'],\n",
              " ['G', 'A', '|'],\n",
              " ['T', 'C', '|'],\n",
              " ['G', 'G', '?'],\n",
              " ['G', 'A', '|'],\n",
              " ['G', 'G', '?'],\n",
              " ['T', 'C', '|'],\n",
              " ['G', 'T', '|'],\n",
              " ['C', 'C', '?'],\n",
              " ['CA', 'CA', '?'],\n",
              " ['A', 'G', '|'],\n",
              " ['A', 'A', '?'],\n",
              " ['G', 'G', '?'],\n",
              " ['C', 'C', '?'],\n",
              " ['G', 'A', '?'],\n",
              " ['T', 'T', '?'],\n",
              " ['A', 'G', '?'],\n",
              " ['C', 'T', '?'],\n",
              " ['C', 'C', '?'],\n",
              " ['C', 'T', '?'],\n",
              " ['G', 'A', '?'],\n",
              " ['C', 'T', '?'],\n",
              " ['T', 'T', '?'],\n",
              " ['A', 'A', '?'],\n",
              " ['T', 'T', '?'],\n",
              " ['G', 'C', '?'],\n",
              " ['G', 'A', '?'],\n",
              " ['C', 'C', '?'],\n",
              " ['G', 'G', '?'],\n",
              " ['C', 'C', '?'],\n",
              " ['G', 'G', '?'],\n",
              " ['G', 'A', '?'],\n",
              " ['G', 'T', '?'],\n",
              " ['A', 'A', '?'],\n",
              " ['T', 'T', '?'],\n",
              " ['C', 'T', '?'],\n",
              " ['T', 'T', '?'],\n",
              " ['G', 'A', '?'],\n",
              " ['C', 'T', '?'],\n",
              " ['C', 'C', '?'],\n",
              " ['T', 'T', '?'],\n",
              " ['T', 'T', '?'],\n",
              " ['G', 'G', '?'],\n",
              " ['T', 'G', '?'],\n",
              " ['G', 'G', '?'],\n",
              " ['G', 'GCC', '?'],\n",
              " ['T', 'C', '?'],\n",
              " ['T', 'C', '?'],\n",
              " ['G', 'GGCA', '?'],\n",
              " ['G', 'A', '?'],\n",
              " ['T', 'C', '?'],\n",
              " ['G', 'C', '?'],\n",
              " ['T', 'C', '?'],\n",
              " ['G', 'C', '?'],\n",
              " ['T', 'A', '?'],\n",
              " ['T', 'A', '?'],\n",
              " ['A', 'G', '?'],\n",
              " ['C', 'CAA', '?'],\n",
              " ['T', 'C', '?'],\n",
              " ['T', 'C', '?'],\n",
              " ['C', 'G', '?'],\n",
              " ['T', 'C', '?'],\n",
              " ['T', 'C', '?'],\n",
              " ['C', 'T', '?'],\n",
              " ['C', 'A', '?'],\n",
              " ['T', 'C', '?'],\n",
              " ['A', 'G', '?'],\n",
              " ['T', 'C', '?'],\n",
              " ['G', 'A', '?'],\n",
              " ['C', 'A', '?'],\n",
              " ['C', 'A', '?'],\n",
              " ['C', 'T', '?'],\n",
              " ['G', 'A', '?'],\n",
              " ['C', 'T', '?'],\n",
              " ['C', 'C', '?'],\n",
              " ['C', 'G', '?'],\n",
              " ['A', 'G', '?'],\n",
              " ['G', 'A', '?'],\n",
              " ['A', 'G', '?'],\n",
              " ['A', 'G', '?'],\n",
              " ['C', 'T', '?'],\n",
              " ['G', 'T', '?'],\n",
              " ['G', 'C', '?'],\n",
              " ['G', 'A', '?'],\n",
              " ['T', 'C', '?'],\n",
              " ['G', 'A', '?'],\n",
              " ['A', 'G', '?'],\n",
              " ['G', 'A', '|'],\n",
              " ['G', 'A', '?'],\n",
              " ['G', 'A', '?'],\n",
              " ['G', 'T', '?'],\n",
              " ['C', 'T', '?'],\n",
              " ['A', 'G', '?'],\n",
              " ['T', 'C', '?'],\n",
              " ['C', 'T', '?'],\n",
              " ['A', 'G', '?'],\n",
              " ['C', 'CTT', '?'],\n",
              " ['C', 'A', '?'],\n",
              " ['T', 'C', '?'],\n",
              " ['T', 'T', '?'],\n",
              " ['C', 'T', '?'],\n",
              " ['G', 'T', '?'],\n",
              " ['A', 'G', '?'],\n",
              " ['G', 'C', '?'],\n",
              " ['C', 'T', '?'],\n",
              " ['A', 'AAAT', '?'],\n",
              " ['G', 'A', '?'],\n",
              " ['T', 'C', '?'],\n",
              " ['T', 'C', '?'],\n",
              " ['A', 'T', '?'],\n",
              " ['C', 'T', '?'],\n",
              " ['C', 'G', '?'],\n",
              " ['AAAAC', 'A', '?'],\n",
              " ['A', 'T', '?'],\n",
              " ['C', 'T', '?'],\n",
              " ['G', 'A', '?'],\n",
              " ['T', 'TG', '?'],\n",
              " ['G', 'G', '?'],\n",
              " ['T', 'C', '?'],\n",
              " ['G', 'A', '?'],\n",
              " ['T', 'C', '?'],\n",
              " ['G', 'A', '?'],\n",
              " ['G', 'C', '?'],\n",
              " ['T', 'C', '?'],\n",
              " ['C', 'T', '?'],\n",
              " ['G', 'C', '?'],\n",
              " ['G', 'T', '?'],\n",
              " ['G', 'A', '?'],\n",
              " ['C', 'T', '?'],\n",
              " ['G', 'A', '?'],\n",
              " ['T', 'C', '?'],\n",
              " ['A', 'G', '?'],\n",
              " ['A', 'G', '?'],\n",
              " ['T', 'C', '?'],\n",
              " ['T', 'C', '?'],\n",
              " ['G', 'T', '?'],\n",
              " ['T', 'C', '?'],\n",
              " ['A', 'G', '?'],\n",
              " ['G', 'A', '?'],\n",
              " ['C', 'T', '?'],\n",
              " ['A', 'AG', '?'],\n",
              " ['T', 'C', '?'],\n",
              " ['G', 'A', '?'],\n",
              " ['C', 'CAAA', '?'],\n",
              " ['A', 'C', '?'],\n",
              " ['T', 'C', '?'],\n",
              " ['C', 'T', '?'],\n",
              " ['C', 'A', '?'],\n",
              " ['GAAA', 'G', '?'],\n",
              " ['A', 'G', '?'],\n",
              " ['TCAAACAAACAAA', 'T', '?'],\n",
              " ['C', 'CTGT', '?'],\n",
              " ['T', 'C', '?'],\n",
              " ['C', 'CT', '?'],\n",
              " ['G', 'A', '?'],\n",
              " ['G', 'C', '?'],\n",
              " ['G', 'A', '?'],\n",
              " ['ACT', 'A', '?'],\n",
              " ['C', 'A', '?'],\n",
              " ['A', 'G', '?'],\n",
              " ['C', 'T', '?'],\n",
              " ['C', 'G', '?'],\n",
              " ['G', 'A', '?'],\n",
              " ['A', 'G', '?'],\n",
              " ['C', 'T', '?'],\n",
              " ['G', 'A', '?'],\n",
              " ['G', 'A', '?'],\n",
              " ['G', 'T', '?'],\n",
              " ['T', 'C', '?'],\n",
              " ['C', 'T', '?'],\n",
              " ['T', 'C', '?'],\n",
              " ['A', 'G', '?'],\n",
              " ['A', 'G', '?'],\n",
              " ['C', 'T', '?'],\n",
              " ['G', 'A', '?'],\n",
              " ['C', 'T', '?'],\n",
              " ['A', 'C', '?'],\n",
              " ['CAT', 'C', '?'],\n",
              " ['CACAT', 'C', '?'],\n",
              " ['C', 'T', '?'],\n",
              " ['A', 'C', '?'],\n",
              " ['C', 'CACATAT', '?'],\n",
              " ['G', 'A', '?'],\n",
              " ['T', 'TACACACAC', '-|'],\n",
              " ['A', 'G', '?'],\n",
              " ['A', 'G', '?'],\n",
              " ['G', 'A', '?'],\n",
              " ['G', 'A', '?'],\n",
              " ['G', 'G', '?'],\n",
              " ['T', 'C', '?'],\n",
              " ['T', 'G', '?'],\n",
              " ['G', 'A', '?'],\n",
              " ['T', 'C', '?'],\n",
              " ['GA', 'GAA', '?'],\n",
              " ['A', 'AT', '?'],\n",
              " ['G', 'A', '?'],\n",
              " ['TAGG', 'T', '?'],\n",
              " ['T', 'C', '?'],\n",
              " ['C', 'T', '?'],\n",
              " ['A', 'G', '?'],\n",
              " ['T', 'A', '?'],\n",
              " ['C', 'T', '?'],\n",
              " ['C', 'T', '?'],\n",
              " ['G', 'A', '?'],\n",
              " ['C', 'T', '?'],\n",
              " ['G', 'GGAA', '?'],\n",
              " ['C', 'T', '?'],\n",
              " ['A', 'C', '?'],\n",
              " ['C', 'T', '?'],\n",
              " ['T', 'G', '?'],\n",
              " ['A', 'G', '?'],\n",
              " ['G', 'A', '?'],\n",
              " ['T', 'G', '?'],\n",
              " ['GCCC', 'G', '?'],\n",
              " ['T', 'G', '?'],\n",
              " ['CGT', 'C', '?'],\n",
              " ['C', 'T', '?'],\n",
              " ['G', 'T', '?'],\n",
              " ['G', 'A', '?'],\n",
              " ['T', 'C', '?'],\n",
              " ['T', 'C', '?'],\n",
              " ['A', 'G', '?'],\n",
              " ['T', 'C', '?'],\n",
              " ['A', 'G', '?'],\n",
              " ['A', 'G', '?'],\n",
              " ['G', 'G', '?'],\n",
              " ['C', 'C', '?'],\n",
              " ['C', 'T', '?'],\n",
              " ['T', 'C', '?'],\n",
              " ['C', 'C', '?'],\n",
              " ['G', 'T', '?'],\n",
              " ['C', 'G', '?'],\n",
              " ['G', 'A', '?'],\n",
              " ['G', 'A', '?'],\n",
              " ['A', 'G', '?'],\n",
              " ['C', 'C', '?'],\n",
              " ['C', 'T', '?'],\n",
              " ['T', 'G', '?'],\n",
              " ['G', 'A', '?'],\n",
              " ['T', 'TTC', '?'],\n",
              " ['G', 'C', '?'],\n",
              " ['C', 'T', '?'],\n",
              " ['G', 'GCTCTGGGCCA', '?'],\n",
              " ['T', 'TGCTCTGGGCC', '?'],\n",
              " ['T', 'TACCCCAGGAGATCCCTGC', '?'],\n",
              " ['T', 'G', '?'],\n",
              " ['T', 'C', '?'],\n",
              " ['T', 'A', '?'],\n",
              " ['C', 'T', '?'],\n",
              " ['G', 'A', '?'],\n",
              " ['G', 'A', '?'],\n",
              " ['CA', 'C', '?'],\n",
              " ['A', 'G', '?'],\n",
              " ['C', 'T', '?'],\n",
              " ['C', 'T', '?'],\n",
              " ['G', 'C', '?'],\n",
              " ['G', 'A', '?'],\n",
              " ['C', 'C', '?'],\n",
              " ['C', 'C', '?'],\n",
              " ['C', 'A', '?'],\n",
              " ['A', 'G', '?'],\n",
              " ['T', 'C', '?'],\n",
              " ['G', 'A', '?'],\n",
              " ['G', 'G', '?'],\n",
              " ['T', 'C', '|'],\n",
              " ['C', 'A', '?'],\n",
              " ['C', 'T', '?'],\n",
              " ['C', 'C', '?'],\n",
              " ['C', 'A', '?'],\n",
              " ['C', 'T', '?'],\n",
              " ['G', 'A', '?'],\n",
              " ['C', 'T', '?'],\n",
              " ['C', 'T', '?'],\n",
              " ['G', 'GT', '?'],\n",
              " ['GC', 'G', '?'],\n",
              " ['A', 'A', '?'],\n",
              " ['T', 'T', '?'],\n",
              " ['C', 'T', '?'],\n",
              " ['AGTGT', 'A', '?'],\n",
              " ['C', 'C', '?'],\n",
              " ['T', 'C', '?'],\n",
              " ['A', 'A', '?'],\n",
              " ['C', 'T', '?'],\n",
              " ['G', 'C', '?'],\n",
              " ['G', 'A', '?'],\n",
              " ['G', 'T', '?'],\n",
              " ['T', 'C', '?'],\n",
              " ['C', 'T', '?'],\n",
              " ['A', 'G', '?'],\n",
              " ['C', 'T', '?'],\n",
              " ['A', 'G', '?'],\n",
              " ['T', 'C', '?'],\n",
              " ...]"
            ]
          },
          "metadata": {
            "tags": []
          },
          "execution_count": 74
        }
      ]
    },
    {
      "cell_type": "code",
      "metadata": {
        "id": "IMln3ktgZFDE",
        "colab_type": "code",
        "outputId": "ec5e4b53-bdb4-4a26-c6cc-bd6d1e3e069f",
        "colab": {
          "base_uri": "https://localhost:8080/",
          "height": 35
        }
      },
      "source": [
        "len(shared_SNPs)"
      ],
      "execution_count": 0,
      "outputs": [
        {
          "output_type": "execute_result",
          "data": {
            "text/plain": [
              "170171"
            ]
          },
          "metadata": {
            "tags": []
          },
          "execution_count": 77
        }
      ]
    },
    {
      "cell_type": "code",
      "metadata": {
        "id": "9_i5-mhuav4s",
        "colab_type": "code",
        "outputId": "43efa663-1478-4b26-821a-b10c22f445e3",
        "colab": {
          "base_uri": "https://localhost:8080/",
          "height": 35
        }
      },
      "source": [
        "shared_SNPs[0]"
      ],
      "execution_count": 0,
      "outputs": [
        {
          "output_type": "execute_result",
          "data": {
            "text/plain": [
              "('chr1', 817186)"
            ]
          },
          "metadata": {
            "tags": []
          },
          "execution_count": 78
        }
      ]
    },
    {
      "cell_type": "code",
      "metadata": {
        "id": "slZjR0nUazxQ",
        "colab_type": "code",
        "outputId": "539cb513-eb9a-4155-ef5d-1402209f8206",
        "colab": {
          "base_uri": "https://localhost:8080/",
          "height": 35
        }
      },
      "source": [
        "phased_genome[0]"
      ],
      "execution_count": 0,
      "outputs": [
        {
          "output_type": "execute_result",
          "data": {
            "text/plain": [
              "['A', 'A', '?']"
            ]
          },
          "metadata": {
            "tags": []
          },
          "execution_count": 79
        }
      ]
    },
    {
      "cell_type": "markdown",
      "metadata": {
        "id": "VKSgD_34n_0P",
        "colab_type": "text"
      },
      "source": [
        "# Correctly phased SNPs from the trio"
      ]
    },
    {
      "cell_type": "code",
      "metadata": {
        "id": "JIzl2P-QZqci",
        "colab_type": "code",
        "colab": {}
      },
      "source": [
        "correctly_phased_SNPs = [coords for coords, snp in zip(shared_SNPs, phased_genome) if snp[2] == \"|\"]"
      ],
      "execution_count": 0,
      "outputs": []
    },
    {
      "cell_type": "code",
      "metadata": {
        "id": "a4__3qwJdJOn",
        "colab_type": "code",
        "outputId": "97e274d8-f1cb-4e9e-9911-fca4de4768ea",
        "colab": {
          "base_uri": "https://localhost:8080/",
          "height": 1000
        }
      },
      "source": [
        "correctly_phased_SNPs"
      ],
      "execution_count": 0,
      "outputs": [
        {
          "output_type": "execute_result",
          "data": {
            "text/plain": [
              "[('chr1', 969377),\n",
              " ('chr1', 1129916),\n",
              " ('chr1', 1130879),\n",
              " ('chr1', 1130902),\n",
              " ('chr1', 1131008),\n",
              " ('chr1', 1131023),\n",
              " ('chr1', 1131566),\n",
              " ('chr1', 1131572),\n",
              " ('chr1', 1131573),\n",
              " ('chr1', 1132216),\n",
              " ('chr1', 1132294),\n",
              " ('chr1', 1132482),\n",
              " ('chr1', 1133289),\n",
              " ('chr1', 1134748),\n",
              " ('chr1', 1135061),\n",
              " ('chr1', 1135738),\n",
              " ('chr1', 1135812),\n",
              " ('chr1', 1137118),\n",
              " ('chr1', 1144906),\n",
              " ('chr1', 1152303),\n",
              " ('chr1', 1154630),\n",
              " ('chr1', 1157219),\n",
              " ('chr1', 1160003),\n",
              " ('chr1', 1161528),\n",
              " ('chr1', 1161720),\n",
              " ('chr1', 1161907),\n",
              " ('chr1', 1161955),\n",
              " ('chr1', 1162027),\n",
              " ('chr1', 1163334),\n",
              " ('chr1', 1163440),\n",
              " ('chr1', 1163962),\n",
              " ('chr1', 1164837),\n",
              " ('chr1', 1164939),\n",
              " ('chr1', 1165623),\n",
              " ('chr1', 1168162),\n",
              " ('chr1', 1168310),\n",
              " ('chr1', 1168578),\n",
              " ('chr1', 1866635),\n",
              " ('chr1', 1904424),\n",
              " ('chr1', 1943142),\n",
              " ('chr1', 1950848),\n",
              " ('chr1', 1951510),\n",
              " ('chr1', 1951521),\n",
              " ('chr1', 1951920),\n",
              " ('chr1', 1953616),\n",
              " ('chr1', 1954783),\n",
              " ('chr1', 1954946),\n",
              " ('chr1', 1955580),\n",
              " ('chr1', 1956930),\n",
              " ('chr1', 1957586),\n",
              " ('chr1', 1958353),\n",
              " ('chr1', 1991867),\n",
              " ('chr1', 2053372),\n",
              " ('chr1', 2071051),\n",
              " ('chr1', 2074301),\n",
              " ('chr1', 2076235),\n",
              " ('chr1', 2129937),\n",
              " ('chr1', 2189679),\n",
              " ('chr1', 2394570),\n",
              " ('chr1', 2395373),\n",
              " ('chr1', 2396376),\n",
              " ('chr1', 2398222),\n",
              " ('chr1', 2398577),\n",
              " ('chr1', 2398751),\n",
              " ('chr1', 2477222),\n",
              " ('chr1', 2568459),\n",
              " ('chr1', 2806283),\n",
              " ('chr1', 2845230),\n",
              " ('chr1', 2870129),\n",
              " ('chr1', 2872148),\n",
              " ('chr1', 2873407),\n",
              " ('chr1', 2874578),\n",
              " ('chr1', 2930923),\n",
              " ('chr1', 2944366),\n",
              " ('chr1', 2966572),\n",
              " ('chr1', 3020251),\n",
              " ('chr1', 3082370),\n",
              " ('chr1', 3082638),\n",
              " ('chr1', 3082851),\n",
              " ('chr1', 3083901),\n",
              " ('chr1', 3085193),\n",
              " ('chr1', 3085284),\n",
              " ('chr1', 3085750),\n",
              " ('chr1', 3085771),\n",
              " ('chr1', 3085786),\n",
              " ('chr1', 3086128),\n",
              " ('chr1', 3092322),\n",
              " ('chr1', 3201289),\n",
              " ('chr1', 3415169),\n",
              " ('chr1', 3420749),\n",
              " ('chr1', 3420979),\n",
              " ('chr1', 3429784),\n",
              " ('chr1', 3431704),\n",
              " ('chr1', 3432949),\n",
              " ('chr1', 3518420),\n",
              " ('chr1', 3521371),\n",
              " ('chr1', 3523074),\n",
              " ('chr1', 3523464),\n",
              " ('chr1', 3615735),\n",
              " ('chr1', 3616064),\n",
              " ('chr1', 3659177),\n",
              " ('chr1', 3660757),\n",
              " ('chr1', 3661722),\n",
              " ('chr1', 3661751),\n",
              " ('chr1', 3663264),\n",
              " ('chr1', 3665657),\n",
              " ('chr1', 3665680),\n",
              " ('chr1', 3665681),\n",
              " ('chr1', 3667128),\n",
              " ('chr1', 3668515),\n",
              " ('chr1', 3672337),\n",
              " ('chr1', 3672437),\n",
              " ('chr1', 3688533),\n",
              " ('chr1', 3690286),\n",
              " ('chr1', 3705620),\n",
              " ('chr1', 3705742),\n",
              " ('chr1', 3706761),\n",
              " ('chr1', 3709204),\n",
              " ('chr1', 3709312),\n",
              " ('chr1', 3712099),\n",
              " ('chr1', 3712113),\n",
              " ('chr1', 3716973),\n",
              " ('chr1', 3717895),\n",
              " ('chr1', 3718096),\n",
              " ('chr1', 3718901),\n",
              " ('chr1', 3720683),\n",
              " ('chr1', 3722110),\n",
              " ('chr1', 3723079),\n",
              " ('chr1', 3723521),\n",
              " ('chr1', 3723570),\n",
              " ('chr1', 3724559),\n",
              " ('chr1', 3727785),\n",
              " ('chr1', 3727810),\n",
              " ('chr1', 3729628),\n",
              " ('chr1', 3729650),\n",
              " ('chr1', 3729727),\n",
              " ('chr1', 3736848),\n",
              " ('chr1', 3736862),\n",
              " ('chr1', 3761369),\n",
              " ('chr1', 3761657),\n",
              " ('chr1', 3762334),\n",
              " ('chr1', 3762575),\n",
              " ('chr1', 3792464),\n",
              " ('chr1', 3863073),\n",
              " ('chr1', 3863080),\n",
              " ('chr1', 3863116),\n",
              " ('chr1', 3863992),\n",
              " ('chr1', 3864572),\n",
              " ('chr1', 3865073),\n",
              " ('chr1', 3927491),\n",
              " ('chr1', 3942066),\n",
              " ('chr1', 3942438),\n",
              " ('chr1', 3955322),\n",
              " ('chr1', 3956581),\n",
              " ('chr1', 3956874),\n",
              " ('chr1', 3957077),\n",
              " ('chr1', 3959177),\n",
              " ('chr1', 3959339),\n",
              " ('chr1', 3959637),\n",
              " ('chr1', 3964196),\n",
              " ('chr1', 3964266),\n",
              " ('chr1', 3964359),\n",
              " ('chr1', 3964554),\n",
              " ('chr1', 3965511),\n",
              " ('chr1', 3966008),\n",
              " ('chr1', 3966301),\n",
              " ('chr1', 3967530),\n",
              " ('chr1', 3968222),\n",
              " ('chr1', 3968625),\n",
              " ('chr1', 3970204),\n",
              " ('chr1', 3971034),\n",
              " ('chr1', 3973327),\n",
              " ('chr1', 3974891),\n",
              " ('chr1', 3974942),\n",
              " ('chr1', 3975195),\n",
              " ('chr1', 3975207),\n",
              " ('chr1', 3976353),\n",
              " ('chr1', 3976364),\n",
              " ('chr1', 3976763),\n",
              " ('chr1', 3977605),\n",
              " ('chr1', 3977649),\n",
              " ('chr1', 3977658),\n",
              " ('chr1', 3978712),\n",
              " ('chr1', 3978817),\n",
              " ('chr1', 3979085),\n",
              " ('chr1', 3979380),\n",
              " ('chr1', 3979773),\n",
              " ('chr1', 3979836),\n",
              " ('chr1', 3981418),\n",
              " ('chr1', 3983456),\n",
              " ('chr1', 3989920),\n",
              " ('chr1', 3991189),\n",
              " ('chr1', 3994007),\n",
              " ('chr1', 3995220),\n",
              " ('chr1', 3995519),\n",
              " ('chr1', 3995656),\n",
              " ('chr1', 3996296),\n",
              " ('chr1', 3997428),\n",
              " ('chr1', 4187033),\n",
              " ('chr1', 4200933),\n",
              " ('chr1', 4223964),\n",
              " ('chr1', 4239016),\n",
              " ('chr1', 4277231),\n",
              " ('chr1', 4353533),\n",
              " ('chr1', 4416244),\n",
              " ('chr1', 4422704),\n",
              " ('chr1', 4426998),\n",
              " ('chr1', 4435642),\n",
              " ('chr1', 4457985),\n",
              " ('chr1', 4463297),\n",
              " ('chr1', 4464669),\n",
              " ('chr1', 4488393),\n",
              " ('chr1', 4489320),\n",
              " ('chr1', 4489342),\n",
              " ('chr1', 4490044),\n",
              " ('chr1', 4519198),\n",
              " ('chr1', 4522864),\n",
              " ('chr1', 4526740),\n",
              " ('chr1', 4530490),\n",
              " ('chr1', 4532184),\n",
              " ('chr1', 4534543),\n",
              " ('chr1', 4535251),\n",
              " ('chr1', 4535945),\n",
              " ('chr1', 4535951),\n",
              " ('chr1', 4536218),\n",
              " ('chr1', 4536228),\n",
              " ('chr1', 4536474),\n",
              " ('chr1', 4536504),\n",
              " ('chr1', 4537022),\n",
              " ('chr1', 4537540),\n",
              " ('chr1', 4537637),\n",
              " ('chr1', 4537795),\n",
              " ('chr1', 4537806),\n",
              " ('chr1', 4537901),\n",
              " ('chr1', 4537961),\n",
              " ('chr1', 4537967),\n",
              " ('chr1', 4538030),\n",
              " ('chr1', 4538157),\n",
              " ('chr1', 4538248),\n",
              " ('chr1', 4538250),\n",
              " ('chr1', 4538364),\n",
              " ('chr1', 4538394),\n",
              " ('chr1', 4538905),\n",
              " ('chr1', 4538934),\n",
              " ('chr1', 4539336),\n",
              " ('chr1', 4539625),\n",
              " ('chr1', 4539637),\n",
              " ('chr1', 4539775),\n",
              " ('chr1', 4539932),\n",
              " ('chr1', 4539946),\n",
              " ('chr1', 4540224),\n",
              " ('chr1', 4540261),\n",
              " ('chr1', 4540354),\n",
              " ('chr1', 4540431),\n",
              " ('chr1', 4540592),\n",
              " ('chr1', 4540609),\n",
              " ('chr1', 4540686),\n",
              " ('chr1', 4540724),\n",
              " ('chr1', 4540757),\n",
              " ('chr1', 4541074),\n",
              " ('chr1', 4541075),\n",
              " ('chr1', 4541241),\n",
              " ('chr1', 4541262),\n",
              " ('chr1', 4541498),\n",
              " ('chr1', 4541525),\n",
              " ('chr1', 4541664),\n",
              " ('chr1', 4542016),\n",
              " ('chr1', 4542028),\n",
              " ('chr1', 4542058),\n",
              " ('chr1', 4542257),\n",
              " ('chr1', 4545362),\n",
              " ('chr1', 4546132),\n",
              " ('chr1', 4546329),\n",
              " ('chr1', 4550190),\n",
              " ('chr1', 4550203),\n",
              " ('chr1', 4550573),\n",
              " ('chr1', 4551000),\n",
              " ('chr1', 4551018),\n",
              " ('chr1', 4551507),\n",
              " ('chr1', 4553173),\n",
              " ('chr1', 4553314),\n",
              " ('chr1', 4553451),\n",
              " ('chr1', 4553961),\n",
              " ('chr1', 4554762),\n",
              " ('chr1', 4555524),\n",
              " ('chr1', 4556006),\n",
              " ('chr1', 4556042),\n",
              " ('chr1', 4556739),\n",
              " ('chr1', 4558662),\n",
              " ('chr1', 4558978),\n",
              " ('chr1', 4562580),\n",
              " ('chr1', 4564445),\n",
              " ('chr1', 4565129),\n",
              " ('chr1', 4566195),\n",
              " ('chr1', 4566207),\n",
              " ('chr1', 4567422),\n",
              " ('chr1', 4567919),\n",
              " ('chr1', 4569126),\n",
              " ('chr1', 4573579),\n",
              " ('chr1', 4575495),\n",
              " ('chr1', 4576707),\n",
              " ('chr1', 4576844),\n",
              " ('chr1', 4578177),\n",
              " ('chr1', 4585665),\n",
              " ('chr1', 4588038),\n",
              " ('chr1', 4589119),\n",
              " ('chr1', 4589256),\n",
              " ('chr1', 4589737),\n",
              " ('chr1', 4590464),\n",
              " ('chr1', 4590629),\n",
              " ('chr1', 4591287),\n",
              " ('chr1', 4592863),\n",
              " ('chr1', 4597027),\n",
              " ('chr1', 4598705),\n",
              " ('chr1', 4600492),\n",
              " ('chr1', 4603625),\n",
              " ('chr1', 4651882),\n",
              " ('chr1', 4661147),\n",
              " ('chr1', 4663189),\n",
              " ('chr1', 4663698),\n",
              " ('chr1', 4668213),\n",
              " ('chr1', 4668757),\n",
              " ('chr1', 4670392),\n",
              " ('chr1', 4673661),\n",
              " ('chr1', 4699258),\n",
              " ('chr1', 4703341),\n",
              " ('chr1', 4705528),\n",
              " ('chr1', 4707693),\n",
              " ('chr1', 4708480),\n",
              " ('chr1', 4710169),\n",
              " ('chr1', 4710386),\n",
              " ('chr1', 4827628),\n",
              " ('chr1', 4827952),\n",
              " ('chr1', 4829528),\n",
              " ('chr1', 4831543),\n",
              " ('chr1', 4831676),\n",
              " ('chr1', 4834740),\n",
              " ('chr1', 4834933),\n",
              " ('chr1', 4835278),\n",
              " ('chr1', 4836201),\n",
              " ('chr1', 4836666),\n",
              " ('chr1', 4838773),\n",
              " ('chr1', 4898411),\n",
              " ('chr1', 4899726),\n",
              " ('chr1', 4906480),\n",
              " ('chr1', 4916058),\n",
              " ('chr1', 4953320),\n",
              " ('chr1', 5030937),\n",
              " ('chr1', 5069854),\n",
              " ('chr1', 5069882),\n",
              " ('chr1', 5070221),\n",
              " ('chr1', 5106473),\n",
              " ('chr1', 5107090),\n",
              " ('chr1', 5114018),\n",
              " ('chr1', 5114590),\n",
              " ('chr1', 5115129),\n",
              " ('chr1', 5115201),\n",
              " ('chr1', 5115230),\n",
              " ('chr1', 5115277),\n",
              " ('chr1', 5115450),\n",
              " ('chr1', 5116394),\n",
              " ('chr1', 5116473),\n",
              " ('chr1', 5116921),\n",
              " ('chr1', 5117216),\n",
              " ('chr1', 5117426),\n",
              " ('chr1', 5117429),\n",
              " ('chr1', 5117515),\n",
              " ('chr1', 5117886),\n",
              " ('chr1', 5117995),\n",
              " ('chr1', 5118589),\n",
              " ('chr1', 5118612),\n",
              " ('chr1', 5119048),\n",
              " ('chr1', 5119470),\n",
              " ('chr1', 5119675),\n",
              " ('chr1', 5119746),\n",
              " ('chr1', 5120760),\n",
              " ('chr1', 5120770),\n",
              " ('chr1', 5121555),\n",
              " ('chr1', 5121958),\n",
              " ('chr1', 5122007),\n",
              " ('chr1', 5122052),\n",
              " ('chr1', 5123316),\n",
              " ('chr1', 5123487),\n",
              " ('chr1', 5123865),\n",
              " ('chr1', 5124017),\n",
              " ('chr1', 5124629),\n",
              " ('chr1', 5125086),\n",
              " ('chr1', 5125766),\n",
              " ('chr1', 5127591),\n",
              " ('chr1', 5128379),\n",
              " ('chr1', 5128931),\n",
              " ('chr1', 5129365),\n",
              " ('chr1', 5244361),\n",
              " ('chr1', 5249031),\n",
              " ('chr1', 5303085),\n",
              " ('chr1', 5399284),\n",
              " ('chr1', 5415603),\n",
              " ('chr1', 5416364),\n",
              " ('chr1', 5416492),\n",
              " ('chr1', 5416728),\n",
              " ('chr1', 5416801),\n",
              " ('chr1', 5418841),\n",
              " ('chr1', 5419222),\n",
              " ('chr1', 5419801),\n",
              " ('chr1', 5420008),\n",
              " ('chr1', 5420041),\n",
              " ('chr1', 5420976),\n",
              " ('chr1', 5423625),\n",
              " ('chr1', 5431441),\n",
              " ('chr1', 5431983),\n",
              " ('chr1', 5432637),\n",
              " ('chr1', 5432704),\n",
              " ('chr1', 5432923),\n",
              " ('chr1', 5432931),\n",
              " ('chr1', 5433332),\n",
              " ('chr1', 5435357),\n",
              " ('chr1', 5435776),\n",
              " ('chr1', 5439050),\n",
              " ('chr1', 5439582),\n",
              " ('chr1', 5440617),\n",
              " ('chr1', 5453474),\n",
              " ('chr1', 5454181),\n",
              " ('chr1', 5454207),\n",
              " ('chr1', 5454252),\n",
              " ('chr1', 5454282),\n",
              " ('chr1', 5455466),\n",
              " ('chr1', 5455523),\n",
              " ('chr1', 5460114),\n",
              " ('chr1', 5461631),\n",
              " ('chr1', 5461994),\n",
              " ('chr1', 5464532),\n",
              " ('chr1', 5465387),\n",
              " ('chr1', 5466474),\n",
              " ('chr1', 5468624),\n",
              " ('chr1', 5468743),\n",
              " ('chr1', 5470336),\n",
              " ('chr1', 5470795),\n",
              " ('chr1', 5472559),\n",
              " ('chr1', 5472586),\n",
              " ('chr1', 5473039),\n",
              " ('chr1', 5480747),\n",
              " ('chr1', 5511296),\n",
              " ('chr1', 5523954),\n",
              " ('chr1', 5525155),\n",
              " ('chr1', 5529107),\n",
              " ('chr1', 5529328),\n",
              " ('chr1', 5530387),\n",
              " ('chr1', 5532362),\n",
              " ('chr1', 5532443),\n",
              " ('chr1', 5533371),\n",
              " ('chr1', 5533912),\n",
              " ('chr1', 5534677),\n",
              " ('chr1', 5535296),\n",
              " ('chr1', 5536078),\n",
              " ('chr1', 5537009),\n",
              " ('chr1', 5541888),\n",
              " ('chr1', 5542186),\n",
              " ('chr1', 5542187),\n",
              " ('chr1', 5547153),\n",
              " ('chr1', 5548319),\n",
              " ('chr1', 5551669),\n",
              " ('chr1', 5555464),\n",
              " ('chr1', 5555820),\n",
              " ('chr1', 5557927),\n",
              " ('chr1', 5596740),\n",
              " ('chr1', 5597043),\n",
              " ('chr1', 5597616),\n",
              " ('chr1', 5617715),\n",
              " ('chr1', 5618723),\n",
              " ('chr1', 5618890),\n",
              " ('chr1', 5618896),\n",
              " ('chr1', 5672322),\n",
              " ('chr1', 5676622),\n",
              " ('chr1', 5679177),\n",
              " ('chr1', 5679578),\n",
              " ('chr1', 5790970),\n",
              " ('chr1', 5795082),\n",
              " ('chr1', 5795357),\n",
              " ('chr1', 5796450),\n",
              " ('chr1', 5858752),\n",
              " ('chr1', 5858896),\n",
              " ('chr1', 5863728),\n",
              " ('chr1', 5869712),\n",
              " ('chr1', 5913715),\n",
              " ('chr1', 6007580),\n",
              " ('chr1', 6072250),\n",
              " ('chr1', 6084634),\n",
              " ('chr1', 6093465),\n",
              " ('chr1', 6097222),\n",
              " ('chr1', 6097374),\n",
              " ('chr1', 6097933),\n",
              " ('chr1', 6098502),\n",
              " ('chr1', 6101015),\n",
              " ('chr1', 6101040),\n",
              " ('chr1', 6102523),\n",
              " ('chr1', 6103075),\n",
              " ('chr1', 6103081),\n",
              " ('chr1', 6103524),\n",
              " ('chr1', 6104490),\n",
              " ('chr1', 6140825),\n",
              " ('chr1', 6143061),\n",
              " ('chr1', 6162441),\n",
              " ('chr1', 6218354),\n",
              " ('chr1', 6421782),\n",
              " ('chr1', 6423976),\n",
              " ('chr1', 6507189),\n",
              " ('chr1', 6508327),\n",
              " ('chr1', 6508890),\n",
              " ('chr1', 6509194),\n",
              " ('chr1', 6509226),\n",
              " ('chr1', 6509672),\n",
              " ('chr1', 6511052),\n",
              " ('chr1', 6511127),\n",
              " ('chr1', 6512801),\n",
              " ('chr1', 6512978),\n",
              " ('chr1', 6517811),\n",
              " ('chr1', 6517855),\n",
              " ('chr1', 6517902),\n",
              " ('chr1', 6518007),\n",
              " ('chr1', 6518010),\n",
              " ('chr1', 6518081),\n",
              " ('chr1', 6518342),\n",
              " ('chr1', 6518370),\n",
              " ('chr1', 6518412),\n",
              " ('chr1', 6518471),\n",
              " ('chr1', 6518867),\n",
              " ('chr1', 6519547),\n",
              " ('chr1', 6519783),\n",
              " ('chr1', 6520190),\n",
              " ('chr1', 6520369),\n",
              " ('chr1', 6521817),\n",
              " ('chr1', 6522745),\n",
              " ('chr1', 6523641),\n",
              " ('chr1', 6524041),\n",
              " ('chr1', 6525479),\n",
              " ('chr1', 6525744),\n",
              " ('chr1', 6526493),\n",
              " ('chr1', 6527263),\n",
              " ('chr1', 6527625),\n",
              " ('chr1', 6527800),\n",
              " ('chr1', 6527827),\n",
              " ('chr1', 6528544),\n",
              " ('chr1', 6530442),\n",
              " ('chr1', 6531406),\n",
              " ('chr1', 6531464),\n",
              " ('chr1', 6531877),\n",
              " ('chr1', 6533770),\n",
              " ('chr1', 6534870),\n",
              " ('chr1', 6535842),\n",
              " ('chr1', 6535928),\n",
              " ('chr1', 6535948),\n",
              " ('chr1', 6536139),\n",
              " ('chr1', 6536182),\n",
              " ('chr1', 6536190),\n",
              " ('chr1', 6536345),\n",
              " ('chr1', 6536618),\n",
              " ('chr1', 6536811),\n",
              " ('chr1', 6538981),\n",
              " ('chr1', 6539302),\n",
              " ('chr1', 6539463),\n",
              " ('chr1', 6539498),\n",
              " ('chr1', 6539695),\n",
              " ('chr1', 6540401),\n",
              " ('chr1', 6540547),\n",
              " ('chr1', 6541186),\n",
              " ('chr1', 6541230),\n",
              " ('chr1', 6541276),\n",
              " ('chr1', 6541547),\n",
              " ('chr1', 6541713),\n",
              " ('chr1', 6542213),\n",
              " ('chr1', 6542465),\n",
              " ('chr1', 6542526),\n",
              " ('chr1', 6542695),\n",
              " ('chr1', 6543091),\n",
              " ('chr1', 6543201),\n",
              " ('chr1', 6543218),\n",
              " ('chr1', 6543364),\n",
              " ('chr1', 6543617),\n",
              " ('chr1', 6543848),\n",
              " ('chr1', 6545710),\n",
              " ('chr1', 6545786),\n",
              " ('chr1', 6547139),\n",
              " ('chr1', 6547754),\n",
              " ('chr1', 6548259),\n",
              " ('chr1', 6548375),\n",
              " ('chr1', 6549499),\n",
              " ('chr1', 6549836),\n",
              " ('chr1', 6549898),\n",
              " ('chr1', 6550037),\n",
              " ('chr1', 6550093),\n",
              " ('chr1', 6550100),\n",
              " ('chr1', 6550306),\n",
              " ('chr1', 6550322),\n",
              " ('chr1', 6550966),\n",
              " ('chr1', 6551794),\n",
              " ('chr1', 6551921),\n",
              " ('chr1', 6551967),\n",
              " ('chr1', 6552209),\n",
              " ('chr1', 6552322),\n",
              " ('chr1', 6552542),\n",
              " ('chr1', 6552591),\n",
              " ('chr1', 6552834),\n",
              " ('chr1', 6553524),\n",
              " ('chr1', 6553798),\n",
              " ('chr1', 6553828),\n",
              " ('chr1', 6553849),\n",
              " ('chr1', 6554475),\n",
              " ('chr1', 6554593),\n",
              " ('chr1', 6555630),\n",
              " ('chr1', 6555635),\n",
              " ('chr1', 6558725),\n",
              " ('chr1', 6561936),\n",
              " ('chr1', 6561951),\n",
              " ('chr1', 6562115),\n",
              " ('chr1', 6562229),\n",
              " ('chr1', 6563062),\n",
              " ('chr1', 6563439),\n",
              " ('chr1', 6566555),\n",
              " ('chr1', 6567563),\n",
              " ('chr1', 6571371),\n",
              " ('chr1', 6571555),\n",
              " ('chr1', 6571640),\n",
              " ('chr1', 6575756),\n",
              " ('chr1', 6617004),\n",
              " ('chr1', 6618804),\n",
              " ('chr1', 6620847),\n",
              " ('chr1', 6621202),\n",
              " ('chr1', 6623180),\n",
              " ('chr1', 6625714),\n",
              " ('chr1', 6626154),\n",
              " ('chr1', 6629259),\n",
              " ('chr1', 6629764),\n",
              " ('chr1', 6631178),\n",
              " ('chr1', 6633037),\n",
              " ('chr1', 6633581),\n",
              " ('chr1', 6634147),\n",
              " ('chr1', 6634514),\n",
              " ('chr1', 6635271),\n",
              " ('chr1', 6641474),\n",
              " ('chr1', 6641918),\n",
              " ('chr1', 6651881),\n",
              " ('chr1', 6653222),\n",
              " ('chr1', 6658652),\n",
              " ('chr1', 6661174),\n",
              " ('chr1', 6663124),\n",
              " ('chr1', 6665170),\n",
              " ('chr1', 6666341),\n",
              " ('chr1', 6671441),\n",
              " ('chr1', 6672364),\n",
              " ('chr1', 6675204),\n",
              " ('chr1', 6677810),\n",
              " ('chr1', 6685079),\n",
              " ('chr1', 6688069),\n",
              " ('chr1', 6689856),\n",
              " ('chr1', 6692609),\n",
              " ('chr1', 6693177),\n",
              " ('chr1', 6697809),\n",
              " ('chr1', 6698626),\n",
              " ('chr1', 6876364),\n",
              " ('chr1', 6944241),\n",
              " ('chr1', 6950799),\n",
              " ('chr1', 6951311),\n",
              " ('chr1', 6952331),\n",
              " ('chr1', 6955045),\n",
              " ('chr1', 7011675),\n",
              " ('chr1', 7028690),\n",
              " ('chr1', 7069560),\n",
              " ('chr1', 7075208),\n",
              " ('chr1', 7077577),\n",
              " ('chr1', 7107278),\n",
              " ('chr1', 7265596),\n",
              " ('chr1', 7265921),\n",
              " ('chr1', 7266141),\n",
              " ('chr1', 7266185),\n",
              " ('chr1', 7266460),\n",
              " ('chr1', 7266561),\n",
              " ('chr1', 7266615),\n",
              " ('chr1', 7266687),\n",
              " ('chr1', 7266888),\n",
              " ('chr1', 7268266),\n",
              " ('chr1', 7268578),\n",
              " ('chr1', 7269077),\n",
              " ('chr1', 7271000),\n",
              " ('chr1', 7271980),\n",
              " ('chr1', 7273255),\n",
              " ('chr1', 7274378),\n",
              " ('chr1', 7274513),\n",
              " ('chr1', 7275060),\n",
              " ('chr1', 7276646),\n",
              " ('chr1', 7277456),\n",
              " ('chr1', 7277774),\n",
              " ('chr1', 7340716),\n",
              " ('chr1', 7391328),\n",
              " ('chr1', 7392258),\n",
              " ('chr1', 7447105),\n",
              " ('chr1', 7449548),\n",
              " ('chr1', 7452143),\n",
              " ('chr1', 7452493),\n",
              " ('chr1', 7452965),\n",
              " ('chr1', 7454336),\n",
              " ('chr1', 7454529),\n",
              " ('chr1', 7454613),\n",
              " ('chr1', 7481801),\n",
              " ('chr1', 7547701),\n",
              " ('chr1', 7549444),\n",
              " ('chr1', 7551078),\n",
              " ('chr1', 7647227),\n",
              " ('chr1', 7661287),\n",
              " ('chr1', 7661288),\n",
              " ('chr1', 7677739),\n",
              " ('chr1', 7681758),\n",
              " ('chr1', 7681965),\n",
              " ('chr1', 7687306),\n",
              " ('chr1', 7687919),\n",
              " ('chr1', 7688191),\n",
              " ('chr1', 7688251),\n",
              " ('chr1', 7688465),\n",
              " ('chr1', 7688608),\n",
              " ('chr1', 7688990),\n",
              " ('chr1', 7689449),\n",
              " ('chr1', 7689494),\n",
              " ('chr1', 7689747),\n",
              " ('chr1', 7689817),\n",
              " ('chr1', 7689965),\n",
              " ('chr1', 7690183),\n",
              " ('chr1', 7690993),\n",
              " ('chr1', 7691920),\n",
              " ('chr1', 7692768),\n",
              " ('chr1', 7692855),\n",
              " ('chr1', 7693072),\n",
              " ('chr1', 7695194),\n",
              " ('chr1', 7695746),\n",
              " ('chr1', 7696186),\n",
              " ('chr1', 7696495),\n",
              " ('chr1', 7697285),\n",
              " ('chr1', 7697938),\n",
              " ('chr1', 7701580),\n",
              " ('chr1', 7705537),\n",
              " ('chr1', 7710841),\n",
              " ('chr1', 7712826),\n",
              " ('chr1', 7715032),\n",
              " ('chr1', 7715275),\n",
              " ('chr1', 7715347),\n",
              " ('chr1', 7716275),\n",
              " ('chr1', 7716636),\n",
              " ('chr1', 7718853),\n",
              " ('chr1', 7740325),\n",
              " ('chr1', 7740543),\n",
              " ('chr1', 7741107),\n",
              " ('chr1', 7741820),\n",
              " ('chr1', 7743832),\n",
              " ('chr1', 7744455),\n",
              " ('chr1', 7745148),\n",
              " ('chr1', 7746956),\n",
              " ('chr1', 7747334),\n",
              " ('chr1', 7747837),\n",
              " ('chr1', 7747906),\n",
              " ('chr1', 7748238),\n",
              " ('chr1', 7749668),\n",
              " ('chr1', 7750483),\n",
              " ('chr1', 7750954),\n",
              " ('chr1', 7751155),\n",
              " ('chr1', 7751719),\n",
              " ('chr1', 7752338),\n",
              " ('chr1', 7753353),\n",
              " ('chr1', 7754631),\n",
              " ('chr1', 7756483),\n",
              " ('chr1', 7757256),\n",
              " ('chr1', 7757796),\n",
              " ('chr1', 7758619),\n",
              " ('chr1', 7768218),\n",
              " ('chr1', 7784620),\n",
              " ('chr1', 7786210),\n",
              " ('chr1', 7787302),\n",
              " ('chr1', 7787776),\n",
              " ('chr1', 7796444),\n",
              " ('chr1', 7797188),\n",
              " ('chr1', 7798865),\n",
              " ('chr1', 7799260),\n",
              " ('chr1', 7800216),\n",
              " ('chr1', 7800320),\n",
              " ('chr1', 7801285),\n",
              " ('chr1', 7801772),\n",
              " ('chr1', 7805224),\n",
              " ('chr1', 7806023),\n",
              " ('chr1', 7806405),\n",
              " ('chr1', 7809855),\n",
              " ('chr1', 7809988),\n",
              " ('chr1', 7810084),\n",
              " ('chr1', 7812493),\n",
              " ('chr1', 7816106),\n",
              " ('chr1', 7816186),\n",
              " ('chr1', 7816189),\n",
              " ('chr1', 7816948),\n",
              " ('chr1', 7817428),\n",
              " ('chr1', 7817996),\n",
              " ('chr1', 7818487),\n",
              " ('chr1', 7819070),\n",
              " ('chr1', 7819792),\n",
              " ('chr1', 7820409),\n",
              " ('chr1', 7822258),\n",
              " ('chr1', 7822395),\n",
              " ('chr1', 7823774),\n",
              " ('chr1', 7825891),\n",
              " ('chr1', 7827433),\n",
              " ('chr1', 7828098),\n",
              " ('chr1', 7828512),\n",
              " ('chr1', 7829092),\n",
              " ('chr1', 7829318),\n",
              " ('chr1', 7831023),\n",
              " ('chr1', 7832718),\n",
              " ('chr1', 7834131),\n",
              " ('chr1', 7834446),\n",
              " ('chr1', 7834820),\n",
              " ('chr1', 7835512),\n",
              " ('chr1', 7840335),\n",
              " ('chr1', 7841288),\n",
              " ('chr1', 7841935),\n",
              " ('chr1', 7844187),\n",
              " ('chr1', 7844415),\n",
              " ('chr1', 7846195),\n",
              " ('chr1', 7846416),\n",
              " ('chr1', 7847261),\n",
              " ('chr1', 7847560),\n",
              " ('chr1', 7849970),\n",
              " ('chr1', 7850331),\n",
              " ('chr1', 7851039),\n",
              " ('chr1', 7851169),\n",
              " ('chr1', 7851182),\n",
              " ('chr1', 7852502),\n",
              " ('chr1', 7853370),\n",
              " ('chr1', 7854117),\n",
              " ('chr1', 7854989),\n",
              " ('chr1', 7855563),\n",
              " ('chr1', 7856899),\n",
              " ('chr1', 7857100),\n",
              " ('chr1', 7857107),\n",
              " ('chr1', 7857852),\n",
              " ('chr1', 7860714),\n",
              " ('chr1', 7865893),\n",
              " ('chr1', 7865930),\n",
              " ('chr1', 7866482),\n",
              " ('chr1', 7866875),\n",
              " ('chr1', 7866931),\n",
              " ('chr1', 7867396),\n",
              " ('chr1', 7867450),\n",
              " ('chr1', 7867729),\n",
              " ('chr1', 7867746),\n",
              " ('chr1', 7867748),\n",
              " ('chr1', 7867921),\n",
              " ('chr1', 7868131),\n",
              " ('chr1', 7868688),\n",
              " ('chr1', 7868857),\n",
              " ('chr1', 7879493),\n",
              " ('chr1', 7890967),\n",
              " ('chr1', 7892143),\n",
              " ('chr1', 7893386),\n",
              " ('chr1', 7893884),\n",
              " ('chr1', 7894142),\n",
              " ('chr1', 7894403),\n",
              " ('chr1', 7895029),\n",
              " ('chr1', 7905220),\n",
              " ('chr1', 7910188),\n",
              " ('chr1', 7914326),\n",
              " ('chr1', 7918175),\n",
              " ('chr1', 7954388),\n",
              " ('chr1', 7955500),\n",
              " ('chr1', 7957591),\n",
              " ('chr1', 7958975),\n",
              " ('chr1', 7961718),\n",
              " ('chr1', 7962111),\n",
              " ('chr1', 7963528),\n",
              " ('chr1', 7963574),\n",
              " ('chr1', 7963610),\n",
              " ('chr1', 7963666),\n",
              " ('chr1', 7964630),\n",
              " ('chr1', 7967646),\n",
              " ('chr1', 7968805),\n",
              " ('chr1', 7973408),\n",
              " ('chr1', 7974334),\n",
              " ('chr1', 7975211),\n",
              " ('chr1', 7976015),\n",
              " ('chr1', 7977436),\n",
              " ('chr1', 7978392),\n",
              " ('chr1', 7979889),\n",
              " ('chr1', 7980117),\n",
              " ('chr1', 7980909),\n",
              " ('chr1', 7981292),\n",
              " ('chr1', 7982676),\n",
              " ('chr1', 7984301),\n",
              " ('chr1', 7985775),\n",
              " ('chr1', 7986287),\n",
              " ('chr1', 7986774),\n",
              " ('chr1', 7987608),\n",
              " ('chr1', 7987872),\n",
              " ('chr1', 7988297),\n",
              " ('chr1', 7988655),\n",
              " ('chr1', 7993593),\n",
              " ('chr1', 7993605),\n",
              " ('chr1', 7994233),\n",
              " ('chr1', 7994853),\n",
              " ('chr1', 7995620),\n",
              " ('chr1', 7996393),\n",
              " ('chr1', 7996609),\n",
              " ('chr1', 7997194),\n",
              " ('chr1', 7997387),\n",
              " ('chr1', 7998117),\n",
              " ('chr1', 7999838),\n",
              " ('chr1', 8001603),\n",
              " ('chr1', 8001713),\n",
              " ('chr1', 8001856),\n",
              " ('chr1', 8001982),\n",
              " ('chr1', 8001999),\n",
              " ('chr1', 8002328),\n",
              " ('chr1', 8003468),\n",
              " ('chr1', 8003881),\n",
              " ('chr1', 8004518),\n",
              " ('chr1', 8006854),\n",
              " ('chr1', 8007774),\n",
              " ('chr1', 8008484),\n",
              " ('chr1', 8008962),\n",
              " ('chr1', 8012406),\n",
              " ('chr1', 8015834),\n",
              " ('chr1', 8016025),\n",
              " ('chr1', 8018249),\n",
              " ('chr1', 8019434),\n",
              " ('chr1', 8020652),\n",
              " ('chr1', 8023991),\n",
              " ('chr1', 8024153),\n",
              " ('chr1', 8025268),\n",
              " ('chr1', 8029739),\n",
              " ('chr1', 8030555),\n",
              " ('chr1', 8032944),\n",
              " ('chr1', 8032946),\n",
              " ('chr1', 8033372),\n",
              " ('chr1', 8034104),\n",
              " ('chr1', 8034208),\n",
              " ('chr1', 8034581),\n",
              " ('chr1', 8034794),\n",
              " ('chr1', 8036083),\n",
              " ('chr1', 8036102),\n",
              " ('chr1', 8038402),\n",
              " ('chr1', 8038670),\n",
              " ('chr1', 8039070),\n",
              " ('chr1', 8041999),\n",
              " ('chr1', 8042741),\n",
              " ('chr1', 8045039),\n",
              " ('chr1', 8045115),\n",
              " ('chr1', 8045470),\n",
              " ('chr1', 8045540),\n",
              " ('chr1', 8048694),\n",
              " ('chr1', 8050433),\n",
              " ('chr1', 8050846),\n",
              " ('chr1', 8051032),\n",
              " ('chr1', 8051254),\n",
              " ('chr1', 8052291),\n",
              " ('chr1', 8056625),\n",
              " ('chr1', 8058122),\n",
              " ('chr1', 8059654),\n",
              " ('chr1', 8059843),\n",
              " ('chr1', 8059995),\n",
              " ('chr1', 8061065),\n",
              " ('chr1', 8061762),\n",
              " ('chr1', 8063002),\n",
              " ('chr1', 8063624),\n",
              " ('chr1', 8064255),\n",
              " ('chr1', 8065027),\n",
              " ('chr1', 8065047),\n",
              " ('chr1', 8065924),\n",
              " ('chr1', 8067856),\n",
              " ('chr1', 8071697),\n",
              " ('chr1', 8081653),\n",
              " ('chr1', 8085587),\n",
              " ('chr1', 8092819),\n",
              " ('chr1', 8093925),\n",
              " ('chr1', 8094229),\n",
              " ('chr1', 8094487),\n",
              " ('chr1', 8098719),\n",
              " ('chr1', 8099286),\n",
              " ('chr1', 8099311),\n",
              " ('chr1', 8104308),\n",
              " ('chr1', 8104343),\n",
              " ('chr1', 8104593),\n",
              " ('chr1', 8105032),\n",
              " ('chr1', 8105340),\n",
              " ('chr1', 8105514),\n",
              " ('chr1', 8107381),\n",
              " ('chr1', 8110447),\n",
              " ('chr1', 8110594),\n",
              " ('chr1', 8113485),\n",
              " ('chr1', 8114613),\n",
              " ('chr1', 8115444),\n",
              " ('chr1', 8115887),\n",
              " ('chr1', 8115902),\n",
              " ('chr1', 8116134),\n",
              " ('chr1', 8116968),\n",
              " ('chr1', 8129794),\n",
              " ('chr1', 8130041),\n",
              " ('chr1', 8130126),\n",
              " ('chr1', 8130513),\n",
              " ...]"
            ]
          },
          "metadata": {
            "tags": []
          },
          "execution_count": 86
        }
      ]
    },
    {
      "cell_type": "markdown",
      "metadata": {
        "id": "r4rvUS4Mdlz7",
        "colab_type": "text"
      },
      "source": [
        "# Scrambling the VCF file"
      ]
    },
    {
      "cell_type": "code",
      "metadata": {
        "id": "DMxXTJWQojZo",
        "colab_type": "code",
        "colab": {}
      },
      "source": [
        "def merge_record(old_record_str, new_record):\n",
        "    s = old_record_str\n",
        "    curr = 0\n",
        "    peeled = []\n",
        "    for elem in old_record_str.split():\n",
        "        pos = s.find(elem)\n",
        "        peeled.append(s[:pos])\n",
        "        s = s[pos + len(elem):]\n",
        "    to_collapse = []\n",
        "    for i, j in zip(peeled, new_record):\n",
        "        to_collapse.append(i)\n",
        "        to_collapse.append(j)\n",
        "    v = \"\".join(to_collapse) + s\n",
        "    return v"
      ],
      "execution_count": 0,
      "outputs": []
    },
    {
      "cell_type": "code",
      "metadata": {
        "id": "v53KDt0lpgkN",
        "colab_type": "code",
        "colab": {}
      },
      "source": [
        "def reverse_genotype(record_str):\n",
        "    record = record_str.split()\n",
        "    params = record[8].split(\":\")\n",
        "    values = record[9].split(\":\")\n",
        "    \n",
        "    def reverse_GT(field):\n",
        "        nonlocal record\n",
        "        sep = \"/\"\n",
        "        if sep not in field:\n",
        "            sep = \"|\"\n",
        "            if sep not in field:\n",
        "                raise ValueError(\"GT issues with record: {}\".format(record))\n",
        "\n",
        "        a, b = field.split(sep)\n",
        "        new_GT = \"/\".join([b, a])\n",
        "        return new_GT, int(a), int(b)\n",
        "    \n",
        "    def reverse_field(field, a, b):\n",
        "        elems = field.split(\",\")\n",
        "        new_elems = [i for i in elems]\n",
        "        new_elems[a] = elems[b]\n",
        "        new_elems[b] = elems[a]\n",
        "        return \",\".join(new_elems)\n",
        "    \n",
        "    result = []\n",
        "    for param, value in zip(params, values):\n",
        "        if param in [\"GT\", \"IGT\"]:\n",
        "            new_value, a, b = reverse_GT(value)\n",
        "        elif param in [\"ADALL\", \"AD\"]:\n",
        "            new_value = reverse_field(value, a, b)\n",
        "        else:\n",
        "            new_value = value\n",
        "        result.append(new_value)\n",
        "    new_record = [i for i in record]\n",
        "    new_record[9] = \":\".join(result)\n",
        "    return merge_record(record_str, new_record)"
      ],
      "execution_count": 0,
      "outputs": []
    },
    {
      "cell_type": "code",
      "metadata": {
        "id": "lSaP8dL-pjQL",
        "colab_type": "code",
        "colab": {}
      },
      "source": [
        "test_record = \"chr1\t8303862\t.\tTCAAACAAACAAACAAACAAA\tTCAAACAAACAAACAAA,T\t50\tPASS\tplatforms=2;platformnames=Illumina,10X;datasets=3;datasetnames=HiSeqPE300x,HiSeq250x250,10XChromium;callsets=5;callsetnames=HiSeqPE300xSentieon,HiSeq250x250Sentieon,HiSeqPE300xfreebayes,HiSeq250x250freebayes,10XSentieonhaplo;datasetsmissingcall=CGnormal,HiSeqMatePair,IonExome,SolidSE75bp;callable=CS_HiSeqPE300xSentieon_callable,CS_HiSeq250x250Sentieon_callable;filt=CS_HiSeqMatePairfreebayes_filt;difficultregion=AllRepeats_lt51bp_gt95identity_merged\tGT:DP:ADALL:AD:GQ:IGT:IPS:PS\t2/1:508:0,73,102:0,128,144:297:2|1:.:.\""
      ],
      "execution_count": 0,
      "outputs": []
    },
    {
      "cell_type": "code",
      "metadata": {
        "id": "KJixqjaEplFs",
        "colab_type": "code",
        "colab": {}
      },
      "source": [
        "new_test_record = reverse_genotype(reverse_genotype(test_record))\n",
        "assert \"/\".join(test_record.split(\"|\")) == \"/\".join(new_test_record.split(\"|\"))"
      ],
      "execution_count": 0,
      "outputs": []
    },
    {
      "cell_type": "code",
      "metadata": {
        "id": "5sBLXLcKpqv_",
        "colab_type": "code",
        "colab": {}
      },
      "source": [
        "\n",
        "with open(\"jewish_son_copy.vcf\") as f:\n",
        "    with open(\"reverse_jewish_son.vcf\", \"w\") as g:\n",
        "        for i, record in enumerate(f):\n",
        "            if not record:\n",
        "                g.write(\"\")\n",
        "            elif record and record[0] == \"#\":\n",
        "                g.write(record)\n",
        "            else:\n",
        "                if random.randint(0, 1):\n",
        "                    record = reverse_genotype(record)\n",
        "                else:\n",
        "                    record = reverse_genotype(reverse_genotype(record))\n",
        "                g.write(record)"
      ],
      "execution_count": 0,
      "outputs": []
    },
    {
      "cell_type": "markdown",
      "metadata": {
        "id": "YFv3WRUErdoR",
        "colab_type": "text"
      },
      "source": [
        "# Running eagle on the scrambled VCF file"
      ]
    },
    {
      "cell_type": "code",
      "metadata": {
        "id": "0NyrGsW6FrV-",
        "colab_type": "code",
        "outputId": "c263fb0f-d2f7-437d-8b14-828887be48a9",
        "colab": {
          "base_uri": "https://localhost:8080/",
          "height": 35
        }
      },
      "source": [
        "print(\"hi\")"
      ],
      "execution_count": 0,
      "outputs": [
        {
          "output_type": "stream",
          "text": [
            "hi\n"
          ],
          "name": "stdout"
        }
      ]
    },
    {
      "cell_type": "code",
      "metadata": {
        "id": "zXI27QxDFdWL",
        "colab_type": "code",
        "colab": {}
      },
      "source": [
        "!rm ALL.chr*"
      ],
      "execution_count": 0,
      "outputs": []
    },
    {
      "cell_type": "code",
      "metadata": {
        "id": "Zky7ts-Mr18s",
        "colab_type": "code",
        "colab": {}
      },
      "source": [
        "link = \"http://ftp.1000genomes.ebi.ac.uk/vol1/ftp/data_collections/1000_genomes_project/release/20181203_biallelic_SNV/ALL.{chromosome}.shapeit2_integrated_v1a.GRCh38.20181129.phased.vcf.gz{tabix}\""
      ],
      "execution_count": 0,
      "outputs": []
    },
    {
      "cell_type": "code",
      "metadata": {
        "id": "aUFz_GrMuSCm",
        "colab_type": "code",
        "colab": {}
      },
      "source": [
        "import subprocess\n",
        "results = []\n",
        "for chromosome in list(range(1, 23)) + [\"X\"]:\n",
        "  full_chromosome = \"chr{chromosome}\".format(chromosome=chromosome)\n",
        "  result = subprocess.Popen([\"wget\", link.format(chromosome=full_chromosome, tabix=\".tbi\")])\n",
        "  results.append(result)\n",
        "  result = subprocess.Popen([\"wget\", link.format(chromosome=full_chromosome, tabix=\"\")])\n",
        "  results.append(result)"
      ],
      "execution_count": 0,
      "outputs": []
    },
    {
      "cell_type": "code",
      "metadata": {
        "id": "AKDSg9Z1syg-",
        "colab_type": "code",
        "colab": {}
      },
      "source": [
        "for result in results:\n",
        "  result.wait()"
      ],
      "execution_count": 0,
      "outputs": []
    },
    {
      "cell_type": "code",
      "metadata": {
        "id": "5trlaEmDzB_K",
        "colab_type": "code",
        "colab": {
          "base_uri": "https://localhost:8080/",
          "height": 298
        },
        "outputId": "8e5b715f-5117-40ca-91b3-f59093e1eb1a"
      },
      "source": [
        "return_codes = [result.returncode for result in results]"
      ],
      "execution_count": 16,
      "outputs": [
        {
          "output_type": "error",
          "ename": "AttributeError",
          "evalue": "ignored",
          "traceback": [
            "\u001b[0;31m---------------------------------------------------------------------------\u001b[0m",
            "\u001b[0;31mAttributeError\u001b[0m                            Traceback (most recent call last)",
            "\u001b[0;32m<ipython-input-16-375345ab7aba>\u001b[0m in \u001b[0;36m<module>\u001b[0;34m()\u001b[0m\n\u001b[1;32m      1\u001b[0m \u001b[0mreturn_codes\u001b[0m \u001b[0;34m=\u001b[0m \u001b[0;34m[\u001b[0m\u001b[0mresult\u001b[0m\u001b[0;34m.\u001b[0m\u001b[0mreturncode\u001b[0m \u001b[0;32mfor\u001b[0m \u001b[0mresult\u001b[0m \u001b[0;32min\u001b[0m \u001b[0mresults\u001b[0m\u001b[0;34m]\u001b[0m\u001b[0;34m\u001b[0m\u001b[0;34m\u001b[0m\u001b[0m\n\u001b[0;32m----> 2\u001b[0;31m \u001b[0mstdout\u001b[0m \u001b[0;34m=\u001b[0m \u001b[0;34m[\u001b[0m\u001b[0mresult\u001b[0m\u001b[0;34m.\u001b[0m\u001b[0mstdout\u001b[0m\u001b[0;34m.\u001b[0m\u001b[0mread\u001b[0m\u001b[0;34m(\u001b[0m\u001b[0;34m)\u001b[0m \u001b[0;32mfor\u001b[0m \u001b[0mresult\u001b[0m \u001b[0;32min\u001b[0m \u001b[0mresults\u001b[0m\u001b[0;34m]\u001b[0m\u001b[0;34m\u001b[0m\u001b[0;34m\u001b[0m\u001b[0m\n\u001b[0m\u001b[1;32m      3\u001b[0m \u001b[0mstderr\u001b[0m \u001b[0;34m=\u001b[0m \u001b[0;34m[\u001b[0m\u001b[0mresult\u001b[0m\u001b[0;34m.\u001b[0m\u001b[0mstderr\u001b[0m\u001b[0;34m.\u001b[0m\u001b[0mread\u001b[0m\u001b[0;34m(\u001b[0m\u001b[0;34m)\u001b[0m \u001b[0;32mfor\u001b[0m \u001b[0mresult\u001b[0m \u001b[0;32min\u001b[0m \u001b[0mresults\u001b[0m\u001b[0;34m]\u001b[0m\u001b[0;34m\u001b[0m\u001b[0;34m\u001b[0m\u001b[0m\n",
            "\u001b[0;32m<ipython-input-16-375345ab7aba>\u001b[0m in \u001b[0;36m<listcomp>\u001b[0;34m(.0)\u001b[0m\n\u001b[1;32m      1\u001b[0m \u001b[0mreturn_codes\u001b[0m \u001b[0;34m=\u001b[0m \u001b[0;34m[\u001b[0m\u001b[0mresult\u001b[0m\u001b[0;34m.\u001b[0m\u001b[0mreturncode\u001b[0m \u001b[0;32mfor\u001b[0m \u001b[0mresult\u001b[0m \u001b[0;32min\u001b[0m \u001b[0mresults\u001b[0m\u001b[0;34m]\u001b[0m\u001b[0;34m\u001b[0m\u001b[0;34m\u001b[0m\u001b[0m\n\u001b[0;32m----> 2\u001b[0;31m \u001b[0mstdout\u001b[0m \u001b[0;34m=\u001b[0m \u001b[0;34m[\u001b[0m\u001b[0mresult\u001b[0m\u001b[0;34m.\u001b[0m\u001b[0mstdout\u001b[0m\u001b[0;34m.\u001b[0m\u001b[0mread\u001b[0m\u001b[0;34m(\u001b[0m\u001b[0;34m)\u001b[0m \u001b[0;32mfor\u001b[0m \u001b[0mresult\u001b[0m \u001b[0;32min\u001b[0m \u001b[0mresults\u001b[0m\u001b[0;34m]\u001b[0m\u001b[0;34m\u001b[0m\u001b[0;34m\u001b[0m\u001b[0m\n\u001b[0m\u001b[1;32m      3\u001b[0m \u001b[0mstderr\u001b[0m \u001b[0;34m=\u001b[0m \u001b[0;34m[\u001b[0m\u001b[0mresult\u001b[0m\u001b[0;34m.\u001b[0m\u001b[0mstderr\u001b[0m\u001b[0;34m.\u001b[0m\u001b[0mread\u001b[0m\u001b[0;34m(\u001b[0m\u001b[0;34m)\u001b[0m \u001b[0;32mfor\u001b[0m \u001b[0mresult\u001b[0m \u001b[0;32min\u001b[0m \u001b[0mresults\u001b[0m\u001b[0;34m]\u001b[0m\u001b[0;34m\u001b[0m\u001b[0;34m\u001b[0m\u001b[0m\n",
            "\u001b[0;31mAttributeError\u001b[0m: 'NoneType' object has no attribute 'read'"
          ]
        }
      ]
    },
    {
      "cell_type": "code",
      "metadata": {
        "id": "bP1ZUv44vvtF",
        "colab_type": "code",
        "colab": {}
      },
      "source": [
        "assert not any(return_codes)"
      ],
      "execution_count": 0,
      "outputs": []
    },
    {
      "cell_type": "code",
      "metadata": {
        "id": "6qaTPEZHK1rf",
        "colab_type": "code",
        "colab": {
          "base_uri": "https://localhost:8080/",
          "height": 359
        },
        "outputId": "507f976e-bf43-40c9-c49d-8b131653de0d"
      },
      "source": [
        "!apt-get install tabix"
      ],
      "execution_count": 23,
      "outputs": [
        {
          "output_type": "stream",
          "text": [
            "Reading package lists... Done\n",
            "Building dependency tree       \n",
            "Reading state information... Done\n",
            "The following package was automatically installed and is no longer required:\n",
            "  libnvidia-common-410\n",
            "Use 'apt autoremove' to remove it.\n",
            "The following NEW packages will be installed:\n",
            "  tabix\n",
            "0 upgraded, 1 newly installed, 0 to remove and 4 not upgraded.\n",
            "Need to get 326 kB of archives.\n",
            "After this operation, 1,733 kB of additional disk space will be used.\n",
            "Get:1 http://archive.ubuntu.com/ubuntu bionic/universe amd64 tabix amd64 1.7-2 [326 kB]\n",
            "Fetched 326 kB in 1s (560 kB/s)\n",
            "Selecting previously unselected package tabix.\n",
            "(Reading database ... 130963 files and directories currently installed.)\n",
            "Preparing to unpack .../archives/tabix_1.7-2_amd64.deb ...\n",
            "Unpacking tabix (1.7-2) ...\n",
            "Processing triggers for man-db (2.8.3-2ubuntu0.1) ...\n",
            "Setting up tabix (1.7-2) ...\n"
          ],
          "name": "stdout"
        }
      ]
    },
    {
      "cell_type": "code",
      "metadata": {
        "id": "OP9H6XMDKtws",
        "colab_type": "code",
        "colab": {}
      },
      "source": [
        "!bgzip reverse_jewish_son.vcf"
      ],
      "execution_count": 0,
      "outputs": []
    },
    {
      "cell_type": "code",
      "metadata": {
        "id": "YCaYKamkLWAW",
        "colab_type": "code",
        "colab": {}
      },
      "source": [
        "!tabix reverse_jewish_son.vcf.gz"
      ],
      "execution_count": 0,
      "outputs": []
    },
    {
      "cell_type": "code",
      "metadata": {
        "id": "LaMi5SfipvxN",
        "colab_type": "code",
        "outputId": "dacce221-8344-4965-c71e-d3aa9bbec854",
        "colab": {
          "base_uri": "https://localhost:8080/",
          "height": 1000
        }
      },
      "source": [
        "!Eagle_v2.4.1/eagle  --numThreads 15 --vcfTarget reverse_jewish_son.vcf.gz --vcfRef ALL.chr1.shapeit2_integrated_v1a.GRCh38.20181129.phased.vcf.gz --geneticMapFile=Eagle_v2.4.1/tables/genetic_map_hg38_withX.txt.gz --outPrefix reverse_son_jewish_phased"
      ],
      "execution_count": 27,
      "outputs": [
        {
          "output_type": "stream",
          "text": [
            "                      +-----------------------------+\n",
            "                      |                             |\n",
            "                      |   Eagle v2.4.1              |\n",
            "                      |   November 18, 2018         |\n",
            "                      |   Po-Ru Loh                 |\n",
            "                      |                             |\n",
            "                      +-----------------------------+\n",
            "\n",
            "Copyright (C) 2015-2018 Harvard University.\n",
            "Distributed under the GNU GPLv3+ open source license.\n",
            "\n",
            "Command line options:\n",
            "\n",
            "Eagle_v2.4.1/eagle \\\n",
            "    --numThreads 15 \\\n",
            "    --vcfTarget reverse_jewish_son.vcf.gz \\\n",
            "    --vcfRef ALL.chr1.shapeit2_integrated_v1a.GRCh38.20181129.phased.vcf.gz \\\n",
            "    --geneticMapFile=Eagle_v2.4.1/tables/genetic_map_hg38_withX.txt.gz \\\n",
            "    --outPrefix reverse_son_jewish_phased \n",
            "\n",
            "WARNING: --vcfRef does not end in '.bcf'; BCF input is fastest\n",
            "Setting number of threads to 15\n",
            "\n",
            "Reference samples: Nref = 2548\n",
            "Target samples: Ntarget = 1\n",
            "SNPs to analyze: M = 234390 SNPs in both target and reference\n",
            "\n",
            "SNPs ignored: 3361731 SNPs in target but not reference\n",
            "              --> WARNING: Check REF/ALT agreement between target and ref? <--\n",
            "              5560655 SNPs in reference but not target\n",
            "              0 multi-allelic SNPs in target\n",
            "\n",
            "Missing rate in target genotypes: 0\n",
            "\n",
            "Filling in genetic map coordinates using reference file:\n",
            "  Eagle_v2.4.1/tables/genetic_map_hg38_withX.txt.gz\n",
            "Physical distance range: 248099322 base pairs\n",
            "Genetic distance range:  288.206 cM\n",
            "Average # SNPs per cM:   813\n",
            "Number of <=(64-SNP, 1cM) segments: 3666\n",
            "Average # SNPs per segment: 63\n",
            "\n",
            "Time for reading input: 1005.81 sec\n",
            "\n",
            "Fraction of heterozygous genotypes: 0.608435\n",
            "Typical span of default 100-het history length: 0.20 cM\n",
            "Setting --histFactor=4.95\n",
            "Typical span of 494-het history length: 1.00 cM\n",
            "\n",
            "Auto-selecting number of phasing iterations: setting --pbwtIters to 1\n",
            "\n",
            "\n",
            "BEGINNING PHASING\n",
            "\n",
            "PHASING ITER 1 OF 1\n",
            "\n",
            "\n",
            "Phasing target samples\n",
            "................................................................................\n",
            "Time for phasing iter 1: 63.4551\n",
            "Writing vcf.gz output to reverse_son_jewish_phased.vcf.gz\n",
            "Time for writing output: 5.76061\n",
            "Total elapsed time for analysis = 1075.5 sec\n",
            "\n",
            "Mean phase confidence of each target individual:\n",
            "ID\tPHASE_CONFIDENCE\n",
            "HG002\t0.991677\n"
          ],
          "name": "stdout"
        }
      ]
    },
    {
      "cell_type": "markdown",
      "metadata": {
        "id": "b1b1B4U_rEG-",
        "colab_type": "text"
      },
      "source": [
        "# Checking how consistent is the assignment of SNPs within a hundred kilobases (just a bit over an average distance between two genes)"
      ]
    },
    {
      "cell_type": "markdown",
      "metadata": {
        "id": "__7tkkr34V7g",
        "colab_type": "text"
      },
      "source": [
        "## Load scrambled and phased genotype"
      ]
    },
    {
      "cell_type": "code",
      "metadata": {
        "id": "7DaEHOHry3f5",
        "colab_type": "code",
        "colab": {}
      },
      "source": [
        "!gunzip reverse_son_jewish_phased.vcf.gz"
      ],
      "execution_count": 0,
      "outputs": []
    },
    {
      "cell_type": "code",
      "metadata": {
        "id": "-boZUhm-yycb",
        "colab_type": "code",
        "colab": {
          "base_uri": "https://localhost:8080/",
          "height": 322
        },
        "outputId": "1801e841-dec5-47d4-b720-5759382fb2d9"
      },
      "source": [
        "phased_vcf = load_vcf(\"reverse_son_jewish_phased.vcf\")"
      ],
      "execution_count": 34,
      "outputs": [
        {
          "output_type": "error",
          "ename": "KeyboardInterrupt",
          "evalue": "ignored",
          "traceback": [
            "\u001b[0;31m---------------------------------------------------------------------------\u001b[0m",
            "\u001b[0;31mKeyboardInterrupt\u001b[0m                         Traceback (most recent call last)",
            "\u001b[0;32m<ipython-input-34-a5153ee4f208>\u001b[0m in \u001b[0;36m<module>\u001b[0;34m()\u001b[0m\n\u001b[0;32m----> 1\u001b[0;31m \u001b[0mphased_vcf\u001b[0m \u001b[0;34m=\u001b[0m \u001b[0mload_vcf\u001b[0m\u001b[0;34m(\u001b[0m\u001b[0;34m\"reverse_son_jewish_phased.vcf\"\u001b[0m\u001b[0;34m)\u001b[0m\u001b[0;34m\u001b[0m\u001b[0;34m\u001b[0m\u001b[0m\n\u001b[0m",
            "\u001b[0;32m<ipython-input-30-4cb1dd292759>\u001b[0m in \u001b[0;36mload_vcf\u001b[0;34m(filename, limit, chrom_limit, phased)\u001b[0m\n\u001b[1;32m      1\u001b[0m \u001b[0;32mdef\u001b[0m \u001b[0mload_vcf\u001b[0m\u001b[0;34m(\u001b[0m\u001b[0mfilename\u001b[0m\u001b[0;34m,\u001b[0m \u001b[0mlimit\u001b[0m\u001b[0;34m=\u001b[0m\u001b[0;34m-\u001b[0m\u001b[0;36m1\u001b[0m\u001b[0;34m,\u001b[0m \u001b[0mchrom_limit\u001b[0m\u001b[0;34m=\u001b[0m\u001b[0;34m\"\"\u001b[0m\u001b[0;34m,\u001b[0m \u001b[0mphased\u001b[0m\u001b[0;34m=\u001b[0m\u001b[0;32mFalse\u001b[0m\u001b[0;34m)\u001b[0m\u001b[0;34m:\u001b[0m\u001b[0;34m\u001b[0m\u001b[0;34m\u001b[0m\u001b[0m\n\u001b[1;32m      2\u001b[0m     \u001b[0mgenotype\u001b[0m \u001b[0;34m=\u001b[0m \u001b[0;34m{\u001b[0m\u001b[0;34m}\u001b[0m\u001b[0;34m\u001b[0m\u001b[0;34m\u001b[0m\u001b[0m\n\u001b[0;32m----> 3\u001b[0;31m     \u001b[0;32mfor\u001b[0m \u001b[0mi\u001b[0m\u001b[0;34m,\u001b[0m \u001b[0mrecord\u001b[0m \u001b[0;32min\u001b[0m \u001b[0menumerate\u001b[0m\u001b[0;34m(\u001b[0m\u001b[0mvcf\u001b[0m\u001b[0;34m.\u001b[0m\u001b[0mReader\u001b[0m\u001b[0;34m(\u001b[0m\u001b[0mfilename\u001b[0m\u001b[0;34m=\u001b[0m\u001b[0mfilename\u001b[0m\u001b[0;34m)\u001b[0m\u001b[0;34m)\u001b[0m\u001b[0;34m:\u001b[0m\u001b[0;34m\u001b[0m\u001b[0;34m\u001b[0m\u001b[0m\n\u001b[0m\u001b[1;32m      4\u001b[0m         \u001b[0;32mif\u001b[0m \u001b[0mrecord\u001b[0m\u001b[0;34m.\u001b[0m\u001b[0mCHROM\u001b[0m \u001b[0;34m==\u001b[0m \u001b[0mchrom_limit\u001b[0m\u001b[0;34m:\u001b[0m\u001b[0;34m\u001b[0m\u001b[0;34m\u001b[0m\u001b[0m\n\u001b[1;32m      5\u001b[0m             \u001b[0;32mbreak\u001b[0m\u001b[0;34m\u001b[0m\u001b[0;34m\u001b[0m\u001b[0m\n",
            "\u001b[0;32m/usr/local/lib/python3.6/dist-packages/vcf/parser.py\u001b[0m in \u001b[0;36m__next__\u001b[0;34m(self)\u001b[0m\n\u001b[1;32m    541\u001b[0m         \u001b[0;34m'''Return the next record in the file.'''\u001b[0m\u001b[0;34m\u001b[0m\u001b[0;34m\u001b[0m\u001b[0m\n\u001b[1;32m    542\u001b[0m         \u001b[0mline\u001b[0m \u001b[0;34m=\u001b[0m \u001b[0mnext\u001b[0m\u001b[0;34m(\u001b[0m\u001b[0mself\u001b[0m\u001b[0;34m.\u001b[0m\u001b[0mreader\u001b[0m\u001b[0;34m)\u001b[0m\u001b[0;34m\u001b[0m\u001b[0;34m\u001b[0m\u001b[0m\n\u001b[0;32m--> 543\u001b[0;31m         \u001b[0mrow\u001b[0m \u001b[0;34m=\u001b[0m \u001b[0mself\u001b[0m\u001b[0;34m.\u001b[0m\u001b[0m_row_pattern\u001b[0m\u001b[0;34m.\u001b[0m\u001b[0msplit\u001b[0m\u001b[0;34m(\u001b[0m\u001b[0mline\u001b[0m\u001b[0;34m.\u001b[0m\u001b[0mrstrip\u001b[0m\u001b[0;34m(\u001b[0m\u001b[0;34m)\u001b[0m\u001b[0;34m)\u001b[0m\u001b[0;34m\u001b[0m\u001b[0;34m\u001b[0m\u001b[0m\n\u001b[0m\u001b[1;32m    544\u001b[0m         \u001b[0mchrom\u001b[0m \u001b[0;34m=\u001b[0m \u001b[0mrow\u001b[0m\u001b[0;34m[\u001b[0m\u001b[0;36m0\u001b[0m\u001b[0;34m]\u001b[0m\u001b[0;34m\u001b[0m\u001b[0;34m\u001b[0m\u001b[0m\n\u001b[1;32m    545\u001b[0m         \u001b[0;32mif\u001b[0m \u001b[0mself\u001b[0m\u001b[0;34m.\u001b[0m\u001b[0m_prepend_chr\u001b[0m\u001b[0;34m:\u001b[0m\u001b[0;34m\u001b[0m\u001b[0;34m\u001b[0m\u001b[0m\n",
            "\u001b[0;31mKeyboardInterrupt\u001b[0m: "
          ]
        }
      ]
    },
    {
      "cell_type": "markdown",
      "metadata": {
        "id": "FFLay4ol4dhN",
        "colab_type": "text"
      },
      "source": [
        "## Load the benchmark genotype"
      ]
    },
    {
      "cell_type": "code",
      "metadata": {
        "id": "0Qv76xOU3HnA",
        "colab_type": "code",
        "colab": {}
      },
      "source": [
        "positions = sorted(list(set(phased_vcf).intersection(set(son))))\n"
      ],
      "execution_count": 0,
      "outputs": []
    },
    {
      "cell_type": "markdown",
      "metadata": {
        "id": "rjKl2rXh3KSD",
        "colab_type": "text"
      },
      "source": [
        "## Prepare a dictionary, which records, per SNP location, if the assignment from Eagle2 was correct"
      ]
    },
    {
      "cell_type": "code",
      "metadata": {
        "id": "3OpptBfo3MoY",
        "colab_type": "code",
        "colab": {}
      },
      "source": [
        "phase_errors = {}\n",
        "for position in positions:\n",
        "    correct = son[position]\n",
        "    phase_errors[position] = phased_vcf[position] == correct"
      ],
      "execution_count": 0,
      "outputs": []
    },
    {
      "cell_type": "code",
      "metadata": {
        "id": "NqxagufA3PRg",
        "colab_type": "code",
        "colab": {}
      },
      "source": [
        "phase_errors_items = list(phase_errors.items())"
      ],
      "execution_count": 0,
      "outputs": []
    },
    {
      "cell_type": "markdown",
      "metadata": {
        "id": "uO6W4pVs6cax",
        "colab_type": "text"
      },
      "source": [
        "## Prepare a 100 kilobase window, and check consistency of SNP assignment in that window. Repeat `trials` times."
      ]
    },
    {
      "cell_type": "code",
      "metadata": {
        "id": "K-CiEAAx3Utr",
        "colab_type": "code",
        "colab": {}
      },
      "source": [
        "sparse_regions = 0\n",
        "\n",
        "trials = 10000\n",
        "window = 10**5\n",
        "\n",
        "lengths = []\n",
        "fraction = []\n",
        "for i in range(trials):\n",
        "    left = random.randint(phase_errors_items[0][0][1], phase_errors_items[-1][0][1])\n",
        "    selected_window = [(i[1], j) for i, j in phase_errors_items if i[0] == \"chr1\" if i[1] < left + window and left < i[1]]\n",
        "    if len(selected_window) < 20:\n",
        "        sparse_regions += 1\n",
        "        continue\n",
        "    x, y = zip(*selected_window)\n",
        "    counter = collections.Counter(y)\n",
        "    correct, incorrect = counter[True], counter[False]\n",
        "    f = max([correct, incorrect])/(correct+incorrect)\n",
        "    lengths.append(len(x))\n",
        "    fraction.append(f)"
      ],
      "execution_count": 0,
      "outputs": []
    },
    {
      "cell_type": "markdown",
      "metadata": {
        "id": "qRXDmLiN6zKD",
        "colab_type": "text"
      },
      "source": [
        "## Report the number of 100 kilobase windows, which have high sparsity of SNPs"
      ]
    },
    {
      "cell_type": "code",
      "metadata": {
        "id": "yqr4yjWA3zZ7",
        "colab_type": "code",
        "colab": {
          "base_uri": "https://localhost:8080/",
          "height": 35
        },
        "outputId": "942e7d07-5383-4112-b175-5fa303df0bad"
      },
      "source": [
        "sparse_regions"
      ],
      "execution_count": 42,
      "outputs": [
        {
          "output_type": "execute_result",
          "data": {
            "text/plain": [
              "1769"
            ]
          },
          "metadata": {
            "tags": []
          },
          "execution_count": 42
        }
      ]
    },
    {
      "cell_type": "markdown",
      "metadata": {
        "id": "RH_QjLXq7GdD",
        "colab_type": "text"
      },
      "source": [
        "## Average consistency of assignment per window"
      ]
    },
    {
      "cell_type": "code",
      "metadata": {
        "id": "uDcEv3n53224",
        "colab_type": "code",
        "colab": {
          "base_uri": "https://localhost:8080/",
          "height": 35
        },
        "outputId": "2d23876b-cdcd-46fb-f9ac-212e4f6de963"
      },
      "source": [
        "sum(fraction)/len(fraction)"
      ],
      "execution_count": 43,
      "outputs": [
        {
          "output_type": "execute_result",
          "data": {
            "text/plain": [
              "0.8526703707757141"
            ]
          },
          "metadata": {
            "tags": []
          },
          "execution_count": 43
        }
      ]
    },
    {
      "cell_type": "code",
      "metadata": {
        "id": "XL98uRNo37t1",
        "colab_type": "code",
        "colab": {
          "base_uri": "https://localhost:8080/",
          "height": 269
        },
        "outputId": "c7ec1c00-d25b-40cf-a395-8f8e1ed96130"
      },
      "source": [
        "_ = plt.hist(lengths, bins=100)"
      ],
      "execution_count": 44,
      "outputs": [
        {
          "output_type": "display_data",
          "data": {
            "image/png": "[encoded data removed]",
            "text/plain": [
              "<Figure size 432x288 with 1 Axes>"
            ]
          },
          "metadata": {
            "tags": []
          }
        }
      ]
    },
    {
      "cell_type": "code",
      "metadata": {
        "id": "J0DWEYNh3-WO",
        "colab_type": "code",
        "colab": {
          "base_uri": "https://localhost:8080/",
          "height": 269
        },
        "outputId": "3bfd1b19-b5ba-47c7-84aa-39907310e4d8"
      },
      "source": [
        "_ = plt.hist(fraction, bins=100)"
      ],
      "execution_count": 45,
      "outputs": [
        {
          "output_type": "display_data",
          "data": {
            "image/png": "[encoded data removed]",
            "text/plain": [
              "<Figure size 432x288 with 1 Axes>"
            ]
          },
          "metadata": {
            "tags": []
          }
        }
      ]
    },
    {
      "cell_type": "code",
      "metadata": {
        "id": "1w_EK-6J7R83",
        "colab_type": "code",
        "colab": {}
      },
      "source": [
        "## Plot phase assignment in a couple of windows for improved intuition"
      ],
      "execution_count": 0,
      "outputs": []
    },
    {
      "cell_type": "code",
      "metadata": {
        "id": "KkVSM6M6czLF",
        "colab_type": "code",
        "colab": {}
      },
      "source": [
        "import matplotlib.pyplot as plt\n",
        "%matplotlib inline"
      ],
      "execution_count": 0,
      "outputs": []
    },
    {
      "cell_type": "code",
      "metadata": {
        "id": "cgWRM4GZ4FTU",
        "colab_type": "code",
        "colab": {
          "base_uri": "https://localhost:8080/",
          "height": 1000
        },
        "outputId": "12326704-818d-424f-d85b-fa28a358314e"
      },
      "source": [
        "for i in range(20):\n",
        "  left = random.randint(phase_errors_items[0][0][1], phase_errors_items[-1][0][1])\n",
        "  window = 10**5\n",
        "  selected_window = [(i[1], j) for i, j in phase_errors_items if i[0] == \"chr1\" if i[1] < left + window and left < i[1]]\n",
        "  if len(selected_window) < 10:\n",
        "      continue\n",
        "  x, y = zip(*selected_window)\n",
        "  plt.figure()\n",
        "  plt.plot(x,y)\n",
        "  plt.plot(x, y, \"o\")"
      ],
      "execution_count": 62,
      "outputs": [
        {
          "output_type": "display_data",
          "data": {
            "image/png": "[encoded data removed]",
            "text/plain": [
              "<Figure size 432x288 with 1 Axes>"
            ]
          },
          "metadata": {
            "tags": []
          }
        },
        {
          "output_type": "display_data",
          "data": {
            "image/png": "[encoded data removed]",
            "text/plain": [
              "<Figure size 432x288 with 1 Axes>"
            ]
          },
          "metadata": {
            "tags": []
          }
        },
        {
          "output_type": "display_data",
          "data": {
            "image/png": "[encoded data removed]",
            "text/plain": [
              "<Figure size 432x288 with 1 Axes>"
            ]
          },
          "metadata": {
            "tags": []
          }
        },
        {
          "output_type": "display_data",
          "data": {
            "image/png": "[encoded data removed]",
            "text/plain": [
              "<Figure size 432x288 with 1 Axes>"
            ]
          },
          "metadata": {
            "tags": []
          }
        },
        {
          "output_type": "display_data",
          "data": {
            "image/png": "[encoded data removed]",
            "text/plain": [
              "<Figure size 432x288 with 1 Axes>"
            ]
          },
          "metadata": {
            "tags": []
          }
        },
        {
          "output_type": "display_data",
          "data": {
            "image/png": "[encoded data removed]",
            "text/plain": [
              "<Figure size 432x288 with 1 Axes>"
            ]
          },
          "metadata": {
            "tags": []
          }
        },
        {
          "output_type": "display_data",
          "data": {
            "image/png": "[encoded data removed]",
            "text/plain": [
              "<Figure size 432x288 with 1 Axes>"
            ]
          },
          "metadata": {
            "tags": []
          }
        },
        {
          "output_type": "display_data",
          "data": {
            "image/png": "[encoded data removed]",
            "text/plain": [
              "<Figure size 432x288 with 1 Axes>"
            ]
          },
          "metadata": {
            "tags": []
          }
        },
        {
          "output_type": "display_data",
          "data": {
            "image/png": "[encoded data removed]",
            "text/plain": [
              "<Figure size 432x288 with 1 Axes>"
            ]
          },
          "metadata": {
            "tags": []
          }
        },
        {
          "output_type": "display_data",
          "data": {
            "image/png": "[encoded data removed]",
            "text/plain": [
              "<Figure size 432x288 with 1 Axes>"
            ]
          },
          "metadata": {
            "tags": []
          }
        },
        {
          "output_type": "display_data",
          "data": {
            "image/png": "[encoded data removed]",
            "text/plain": [
              "<Figure size 432x288 with 1 Axes>"
            ]
          },
          "metadata": {
            "tags": []
          }
        },
        {
          "output_type": "display_data",
          "data": {
            "image/png": "[encoded data removed]",
            "text/plain": [
              "<Figure size 432x288 with 1 Axes>"
            ]
          },
          "metadata": {
            "tags": []
          }
        },
        {
          "output_type": "display_data",
          "data": {
            "image/png": "[encoded data removed]",
            "text/plain": [
              "<Figure size 432x288 with 1 Axes>"
            ]
          },
          "metadata": {
            "tags": []
          }
        },
        {
          "output_type": "display_data",
          "data": {
            "image/png": "[encoded data removed]",
            "text/plain": [
              "<Figure size 432x288 with 1 Axes>"
            ]
          },
          "metadata": {
            "tags": []
          }
        },
        {
          "output_type": "display_data",
          "data": {
            "image/png": "[encoded data removed]",
            "text/plain": [
              "<Figure size 432x288 with 1 Axes>"
            ]
          },
          "metadata": {
            "tags": []
          }
        }
      ]
    },
    {
      "cell_type": "code",
      "metadata": {
        "id": "7pLDl9AEc5j1",
        "colab_type": "code",
        "colab": {}
      },
      "source": [
        ""
      ],
      "execution_count": 0,
      "outputs": []
    }
  ]
}